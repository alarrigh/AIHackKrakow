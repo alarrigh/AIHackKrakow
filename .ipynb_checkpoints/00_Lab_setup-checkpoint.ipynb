{
 "cells": [
  {
   "cell_type": "markdown",
   "metadata": {},
   "source": [
    "Copyright (c) Microsoft Corporation. All rights reserved.\n",
    "\n",
    "Licensed under the MIT License."
   ]
  },
  {
   "cell_type": "markdown",
   "metadata": {},
   "source": [
    "## Preparing lab environment"
   ]
  },
  {
   "cell_type": "markdown",
   "metadata": {},
   "source": [
    "Go to **Kernel > Change kernel** and  set your kernel to **Azure ML**. Let's begin by creating a conda environment for the lab:"
   ]
  },
  {
   "cell_type": "code",
   "execution_count": null,
   "metadata": {
    "scrolled": true
   },
   "outputs": [],
   "source": [
    "!chmod 755 install_lab.sh\n",
    "!./install_lab.sh"
   ]
  },
  {
   "cell_type": "code",
   "execution_count": null,
   "metadata": {
    "scrolled": true
   },
   "outputs": [],
   "source": [
    "!chmod 755 install_widgets.sh\n",
    "!./install_widgets.sh"
   ]
  },
  {
   "cell_type": "markdown",
   "metadata": {},
   "source": [
    "Before running the next cell, we would need to create an Azure Machine Learning (AML) service Workspace. We have created one for you already, but if you had to create one by yourself you follow [these instructions](https://docs.microsoft.com/en-us/azure/machine-learning/service/how-to-manage-workspace).  Copy and paste the corresponding entries from your lab credentials page into the cell below. Use the entry called **Application/Client Id** for `service_principal_id`, and **Application Secret Key** for `service_principal_password`. All other entries have matching names."
   ]
  },
  {
   "cell_type": "code",
   "execution_count": 3,
   "metadata": {},
   "outputs": [
    {
     "name": "stdout",
     "output_type": "stream",
     "text": [
      "Overwriting config/ws_config.json\n"
     ]
    }
   ],
   "source": [
    "%%writefile config/ws_config.json\n",
    "{\n",
    "    \"subscription_id\": \"277c0999-00a5-45ee-adc9-46e1c08fa35c\",\n",
    "    \"resource_group\": \"alarrigh-rg\",\n",
    "    \"workspace_name\": \"alarrigh-machine-learning\"\n",
    "}"
   ]
  },
  {
   "cell_type": "code",
   "execution_count": 4,
   "metadata": {},
   "outputs": [
    {
     "name": "stdout",
     "output_type": "stream",
     "text": [
      "Performing interactive authentication. Please follow the instructions on the terminal.\n",
      "To sign in, use a web browser to open the page https://microsoft.com/devicelogin and enter the code CBB8CYKB9 to authenticate.\n",
      "Interactive authentication successfully completed.\n"
     ]
    }
   ],
   "source": [
    "from azureml.core import Workspace\n",
    "from azureml.core.authentication import ServicePrincipalAuthentication\n",
    "\n",
    "import json\n",
    "config_file = open('config/ws_config.json')\n",
    "cred_dict = json.load(config_file)\n",
    "\n",
    "#auth = ServicePrincipalAuthentication(tenant_id = cred_dict['tentant_id'], \n",
    "#                                      service_principal_id = cred_dict['service_principal_id'], \n",
    "#                                      service_principal_password = cred_dict['service_principal_password'])\n",
    "\n",
    "ws = Workspace.from_config(path=\"./config/ws_config.json\") #, auth = auth)"
   ]
  }
 ],
 "metadata": {
  "kernelspec": {
   "display_name": "Python 3.6 - AzureML",
   "language": "python",
   "name": "python3-azureml"
  },
  "language_info": {
   "codemirror_mode": {
    "name": "ipython",
    "version": 3
   },
   "file_extension": ".py",
   "mimetype": "text/x-python",
   "name": "python",
   "nbconvert_exporter": "python",
   "pygments_lexer": "ipython3",
   "version": "3.6.9"
  }
 },
 "nbformat": 4,
 "nbformat_minor": 2
}
