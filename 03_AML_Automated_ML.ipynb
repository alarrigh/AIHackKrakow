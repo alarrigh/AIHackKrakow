{
 "cells": [
  {
   "cell_type": "markdown",
   "metadata": {},
   "source": [
    "Copyright (c) Microsoft Corporation. All rights reserved.\n",
    "\n",
    "Licensed under the MIT License."
   ]
  },
  {
   "cell_type": "markdown",
   "metadata": {},
   "source": [
    "## House Prices Prediction\n",
    "### Model training with Automated Machine Learning and Model Explainability\n",
    "\n",
    "In this tutorial we will perform the same basic data preparation and model training steps as we did before, but know with the help of Azure ML service for Automated Machine Learning and Model Explainability."
   ]
  },
  {
   "cell_type": "markdown",
   "metadata": {},
   "source": [
    "We begin by importing the necessary packages and setting some notebook options."
   ]
  },
  {
   "cell_type": "code",
   "execution_count": 20,
   "metadata": {
    "scrolled": true
   },
   "outputs": [],
   "source": [
    "import numpy as np\n",
    "import pandas as pd\n",
    "from sklearn.model_selection import train_test_split\n",
    "from sklearn.model_selection import GridSearchCV\n",
    "from sklearn.ensemble import GradientBoostingRegressor\n",
    "from sklearn.metrics import r2_score\n",
    "from sklearn.metrics import mean_absolute_error\n",
    "from sklearn.metrics import make_scorer\n",
    "import matplotlib.pyplot as plt\n",
    "import seaborn as sns\n",
    "import warnings\n",
    "import os, logging\n",
    "import json\n",
    "\n",
    "from azureml.core import Workspace\n",
    "from azureml.core.authentication import ServicePrincipalAuthentication\n",
    "from azureml.train.automl import AutoMLConfig\n",
    "from azureml.core.experiment import Experiment\n",
    "from azureml.widgets import RunDetails\n",
    "\n",
    "from azureml.explain.model._internal.explanation_client import ExplanationClient\n",
    "#from azureml.train.automl.automl_explain_utilities import AutoMLExplainerSetupClass, automl_setup_model_explanations\n",
    "from azureml.train.automl.runtime.automl_explain_utilities import AutoMLExplainerSetupClass, automl_setup_model_explanations\n",
    "from azureml.explain.model.mimic.models.lightgbm_model import LGBMExplainableModel\n",
    "from azureml.explain.model.mimic_wrapper import MimicWrapper\n",
    "#from azureml.contrib.explain.model.visualize import ExplanationDashboard\n",
    "from interpret_community.widget import ExplanationDashboard\n",
    "\n",
    "warnings.filterwarnings('ignore')\n",
    "\n",
    "%matplotlib inline\n",
    "\n",
    "pd.options.display.max_rows = None\n",
    "pd.options.display.max_columns = None"
   ]
  },
  {
   "cell_type": "markdown",
   "metadata": {},
   "source": [
    "Here we are going to train locally. Therefore, instead of executing the data loading and preparation steps in a separate script, we just execute them here."
   ]
  },
  {
   "cell_type": "code",
   "execution_count": 21,
   "metadata": {},
   "outputs": [],
   "source": [
    "df_housing = pd.read_csv(\"./data/ames.csv\")\n",
    "\n",
    "df_housing.drop(\"Order\", axis = 1, inplace = True)\n",
    "df_housing.drop(\"PID\", axis = 1, inplace = True)\n",
    "\n",
    "fill_none = [\"Pool.QC\", \"Misc.Feature\", \"Alley\", \"Fence\", \"Fireplace.Qu\", \"Garage.Type\", \"Garage.Finish\", \"Garage.Qual\", \"Garage.Cond\",\n",
    "            \"Bsmt.Exposure\", \"Bsmt.Cond\", \"Bsmt.Qual\", \"Mas.Vnr.Type\"]\n",
    "for var in fill_none:\n",
    "    df_housing[var] = df_housing[var].fillna(\"None\")\n",
    "    \n",
    "fill_zero = [\"Garage.Yr.Blt\", \"BsmtFin.Type.2\", \"BsmtFin.Type.1\", \"Bsmt.Half.Bath\", \"Bsmt.Full.Bath\", \"Total.Bsmt.SF\",\n",
    "             \"Bsmt.Unf.SF\", \"BsmtFin.SF.1\", \"BsmtFin.SF.2\", \"Garage.Area\", \"Garage.Cars\", \"Mas.Vnr.Area\"]\n",
    "for var in fill_zero:\n",
    "    df_housing[var] = df_housing[var].fillna(0)\n",
    "\n",
    "df_housing[\"Lot.Frontage\"] = df_housing.groupby(\"Neighborhood\")[\"Lot.Frontage\"].transform(lambda x: x.fillna(x.median()))\n",
    "\n",
    "df_housing['Electrical'] = df_housing['Electrical'].fillna(df_housing['Electrical'].mode()[0])\n",
    "\n",
    "df_housing = df_housing.dropna()\n",
    "\n",
    "response_var = [\"SalePrice\"]\n",
    "\n",
    "numeric_vars = [\"Lot.Frontage\", \"Lot.Area\", \"Mas.Vnr.Area\", \"BsmtFin.SF.1\", \"BsmtFin.SF.2\", \"Bsmt.Unf.SF\", \"Total.Bsmt.SF\",\n",
    "                \"X1st.Flr.SF\", \"X2nd.Flr.SF\", \"Low.Qual.Fin.SF\", \"Gr.Liv.Area\", \"Garage.Area\", \"Wood.Deck.SF\",\n",
    "                \"Open.Porch.SF\", \"Enclosed.Porch\", \"X3Ssn.Porch\", \"Screen.Porch\", \"Pool.Area\", \"Misc.Val\"]\n",
    "\n",
    "categorical_vars = [v for v in df_housing.columns if v not in numeric_vars + response_var]\n",
    "\n",
    "def encode(frame, feature):\n",
    "    ordering = pd.DataFrame()\n",
    "    ordering['val'] = frame[feature].unique()\n",
    "    ordering.index = ordering.val\n",
    "    ordering['spmean'] = frame[[feature, 'SalePrice']].groupby(feature).mean()['SalePrice']\n",
    "    ordering = ordering.sort_values('spmean')\n",
    "    ordering['ordering'] = range(1, ordering.shape[0]+1)\n",
    "    ordering = ordering['ordering'].to_dict()\n",
    "    \n",
    "    for cat, o in ordering.items():\n",
    "        frame.loc[frame[feature] == cat, feature + '_E'] = o\n",
    "    \n",
    "categorical_vars_E = []\n",
    "for q in categorical_vars:  \n",
    "    encode(df_housing, q)\n",
    "    df_housing[q + '_E'] = df_housing[q + '_E'].astype('int')\n",
    "    categorical_vars_E.append(q + '_E')\n",
    "    \n",
    "X_train, X_test, y_train, y_test = train_test_split(df_housing[numeric_vars + categorical_vars_E], df_housing[response_var],\n",
    "                                                    test_size = 0.4, random_state = 0)"
   ]
  },
  {
   "cell_type": "markdown",
   "metadata": {},
   "source": [
    "Now we instantiate a [Workspace](https://docs.microsoft.com/en-us/azure/machine-learning/service/concept-azure-machine-learning-architecture#workspaces) object, using the information from the configuration file that we uploaded previously."
   ]
  },
  {
   "cell_type": "code",
   "execution_count": 22,
   "metadata": {},
   "outputs": [],
   "source": [
    "config_file = open('config/ws_config.json')\n",
    "cred_dict = json.load(config_file)\n",
    "\n",
    "ws = Workspace.from_config(path = \"./config/ws_config.json\")"
   ]
  },
  {
   "cell_type": "markdown",
   "metadata": {},
   "source": [
    "The first step before using [automated machine learning](https://docs.microsoft.com/en-us/azure/machine-learning/service/concept-automated-ml) is to define the configuration for the AutoML job submission.\n",
    "\n",
    "This is done by creating a [AutoMLConfig](https://docs.microsoft.com/en-us/python/api/azureml-train-automl/azureml.train.automl.automlconfig?view=azure-ml-py) object.\n",
    "\n",
    "There are several parameters in the [configuration](https://docs.microsoft.com/en-us/azure/machine-learning/service/how-to-configure-auto-train) that control the automated machine learning job execution, such as number of iterations, iteration timeout, primary model metric, and many others.\n",
    "\n",
    "Here we are defining some of those parameters in a dictionary, to be later unpacked as arguments when creating the AutoMLConfig object."
   ]
  },
  {
   "cell_type": "code",
   "execution_count": 52,
   "metadata": {},
   "outputs": [],
   "source": [
    "automl_settings = {\n",
    "    \"iteration_timeout_minutes\": 15,\n",
    "    \"iterations\": 15,\n",
    "    \"primary_metric\": \"normalized_mean_absolute_error\",\n",
    "    \"preprocess\": True,\n",
    "    \"verbosity\": logging.INFO,\n",
    "    \"n_cross_validations\": 5,\n",
    "    \"model_explainability\": True\n",
    "}"
   ]
  },
  {
   "cell_type": "code",
   "execution_count": 53,
   "metadata": {},
   "outputs": [
    {
     "name": "stderr",
     "output_type": "stream",
     "text": [
      "WARNING - The AutoMLConfig inputs you have specified will soon be deprecated. Please use the AutoMLConfig shown in our documentation: https://aka.ms/AutoMLConfig\n"
     ]
    }
   ],
   "source": [
    "automl_config = AutoMLConfig(task = \"regression\",\n",
    "                             debug_log = \"automated_ml_errors.log\",\n",
    "                             X = X_train,\n",
    "                             y = y_train,\n",
    "                             **automl_settings)"
   ]
  },
  {
   "cell_type": "markdown",
   "metadata": {},
   "source": [
    "Next, we instantiate an [Experiment](https://docs.microsoft.com/en-us/azure/machine-learning/service/concept-azure-machine-learning-architecture#experiments) object and then submit our automated machine learning job for execution, passing the **AutoMLConfig** object created before."
   ]
  },
  {
   "cell_type": "code",
   "execution_count": 54,
   "metadata": {
    "scrolled": false
   },
   "outputs": [
    {
     "name": "stdout",
     "output_type": "stream",
     "text": [
      "Running on local machine\n",
      "Parent Run ID: AutoML_a2c5e0eb-d29f-4019-8d8f-6512df3001c8\n",
      "\n",
      "Current status: DatasetFeaturization. Beginning to featurize the dataset.\n",
      "Current status: DatasetEvaluation. Gathering dataset statistics.\n",
      "Current status: FeaturesGeneration. Generating features for the dataset.\n",
      "Current status: DatasetFeaturizationCompleted. Completed featurizing the dataset.\n",
      "Current status: DatasetCrossValidationSplit. Generating individually featurized CV splits.\n",
      "\n",
      "****************************************************************************************************\n",
      "DATA GUARDRAILS: \n",
      "\n",
      "TYPE:         Missing values imputation\n",
      "STATUS:       PASSED\n",
      "DESCRIPTION:  There were no missing values found in the training data.\n",
      "\n",
      "TYPE:         High cardinality feature detection\n",
      "STATUS:       PASSED\n",
      "DESCRIPTION:  Your inputs were analyzed, and no high cardinality features were detected.\n",
      "\n",
      "****************************************************************************************************\n",
      "Current status: ModelSelection. Beginning model selection.\n",
      "\n",
      "****************************************************************************************************\n",
      "ITERATION: The iteration being evaluated.\n",
      "PIPELINE: A summary description of the pipeline being evaluated.\n",
      "DURATION: Time taken for the current iteration.\n",
      "METRIC: The result of computing score on the fitted pipeline.\n",
      "BEST: The best observed score thus far.\n",
      "****************************************************************************************************\n",
      "\n",
      " ITERATION   PIPELINE                                       DURATION      METRIC      BEST\n",
      "         0   MaxAbsScaler LightGBM                          0:00:25       0.0218    0.0218\n",
      "         1   StandardScalerWrapper ElasticNet               0:00:37       0.0231    0.0218\n",
      "         2   StandardScalerWrapper ElasticNet               0:00:36       0.0248    0.0218\n",
      "         3   StandardScalerWrapper ElasticNet               0:00:30       0.0235    0.0218\n",
      "         4   StandardScalerWrapper ElasticNet               0:00:22       0.0225    0.0218\n",
      "         5   StandardScalerWrapper DecisionTree             0:00:20       0.0324    0.0218\n",
      "         6   MaxAbsScaler GradientBoosting                  0:00:22       0.0353    0.0218\n",
      "         7   MaxAbsScaler DecisionTree                      0:00:20       0.0342    0.0218\n",
      "         8   MaxAbsScaler LightGBM                          0:00:19       0.0226    0.0218\n",
      "         9   StandardScalerWrapper ElasticNet               0:00:23       0.0230    0.0218\n",
      "        10   MaxAbsScaler RandomForest                      0:00:23       0.0260    0.0218\n",
      "        11   MaxAbsScaler DecisionTree                      0:00:18       0.0369    0.0218\n",
      "        12   StandardScalerWrapper ElasticNet               0:00:29       0.0239    0.0218\n",
      "        13   VotingEnsemble                                 0:00:27       0.0197    0.0197\n",
      "        14   StackEnsemble                                  0:00:33       0.0203    0.0197\n",
      "****************************************************************************************************\n",
      "Current status: BestRunExplainModel. Best run model explanations started\n",
      "Current status: ModelExplainationDataSetSetup. Model explanations data setup completed\n",
      "Current status: EngineeredFeatureExplanations. Computation of engineered features started\n",
      "Current status: EngineeredFeatureExplanations. Computation of engineered features completed\n",
      "Current status: BestRunExplainModel. Best run model explanations completed\n",
      "****************************************************************************************************\n"
     ]
    }
   ],
   "source": [
    "experiment = Experiment(ws, \"03_AML_Automated_ML\")\n",
    "local_run = experiment.submit(automl_config, show_output = True)"
   ]
  },
  {
   "cell_type": "markdown",
   "metadata": {},
   "source": [
    "We can monitor the execution through a Jupyter [graphical widget](https://docs.microsoft.com/en-us/azure/machine-learning/service/tutorial-auto-train-models#explore-the-results), available through the RunDetails class."
   ]
  },
  {
   "cell_type": "code",
   "execution_count": 63,
   "metadata": {
    "scrolled": true
   },
   "outputs": [
    {
     "data": {
      "application/vnd.jupyter.widget-view+json": {
       "model_id": "06d65b5170a54e0e85b24996b61ebe4d",
       "version_major": 2,
       "version_minor": 0
      },
      "text/plain": [
       "_AutoMLWidget(widget_settings={'childWidgetDisplay': 'popup', 'send_telemetry': False, 'log_level': 'INFO', 's…"
      ]
     },
     "metadata": {},
     "output_type": "display_data"
    },
    {
     "data": {
      "application/aml.mini.widget.v1": "{\"status\": \"Completed\", \"workbench_run_details_uri\": \"https://ml.azure.com/experiments/03_AML_Automated_ML/runs/AutoML_a2c5e0eb-d29f-4019-8d8f-6512df3001c8?wsid=/subscriptions/277c0999-00a5-45ee-adc9-46e1c08fa35c/resourcegroups/alarrigh-rg/workspaces/alarrigh-machine-learning\", \"run_id\": \"AutoML_a2c5e0eb-d29f-4019-8d8f-6512df3001c8\", \"run_properties\": {\"run_id\": \"AutoML_a2c5e0eb-d29f-4019-8d8f-6512df3001c8\", \"created_utc\": \"2020-02-25T20:42:19.783331Z\", \"properties\": {\"num_iterations\": \"15\", \"training_type\": \"TrainFull\", \"acquisition_function\": \"EI\", \"primary_metric\": \"normalized_mean_absolute_error\", \"train_split\": \"0\", \"MaxTimeSeconds\": \"900\", \"acquisition_parameter\": \"0\", \"num_cross_validation\": \"5\", \"target\": \"local\", \"RawAMLSettingsString\": \"{'name': '03_AML_Automated_ML', 'path': '.', 'subscription_id': '277c0999-00a5-45ee-adc9-46e1c08fa35c', 'resource_group': 'alarrigh-rg', 'workspace_name': 'alarrigh-machine-learning', 'region': 'westeurope', 'compute_target': 'local', 'spark_service': None, 'azure_service': None, 'iterations': 15, 'primary_metric': 'normalized_mean_absolute_error', 'task_type': 'regression', 'data_script': None, 'validation_size': 0.0, 'n_cross_validations': 5, 'y_min': 12789, 'y_max': 755000, 'num_classes': None, 'featurization': 'auto', 'preprocess': True, 'lag_length': 0, 'is_timeseries': False, 'max_cores_per_iteration': 1, 'max_concurrent_iterations': 1, 'iteration_timeout_minutes': 15, 'mem_in_mb': None, 'enforce_time_on_windows': False, 'experiment_timeout_minutes': None, 'experiment_exit_score': None, 'whitelist_models': None, 'blacklist_algos': ['XGBoostRegressor', 'Prophet'], 'supported_models': ['TensorFlowDNN', 'SGD', 'OnlineGradientDescentRegressor', 'LassoLars', 'ElasticNet', 'RandomForest', 'LightGBM', 'TensorFlowLinearRegressor', 'XGBoostRegressor', 'GradientBoosting', 'DecisionTree', 'KNN', 'ExtremeRandomTrees', 'FastLinearRegressor'], 'auto_blacklist': True, 'blacklist_samples_reached': False, 'exclude_nan_labels': True, 'verbosity': 20, 'debug_log': 'automated_ml_errors.log', 'show_warnings': False, 'model_explainability': True, 'service_url': None, 'sdk_url': None, 'sdk_packages': None, 'enable_onnx_compatible_models': False, 'enable_split_onnx_featurizer_estimator_models': False, 'vm_type': None, 'telemetry_verbosity': 'INFO', 'send_telemetry': True, 'enable_dnn': False, 'force_text_dnn': False, 'enable_feature_sweeping': True, 'enable_early_stopping': False, 'early_stopping_n_iters': 10, 'metrics': None, 'enable_ensembling': True, 'enable_stack_ensembling': True, 'ensemble_iterations': 15, 'enable_tf': False, 'enable_cache': True, 'enable_subsampling': False, 'subsample_seed': None, 'enable_nimbusml': False, 'enable_streaming': False, 'label_column_name': None, 'weight_column_name': None, 'cost_mode': 0, 'metric_operation': 'minimize'}\", \"AMLSettingsJsonString\": \"{\\\"name\\\": \\\"03_AML_Automated_ML\\\", \\\"path\\\": \\\".\\\", \\\"subscription_id\\\": \\\"277c0999-00a5-45ee-adc9-46e1c08fa35c\\\", \\\"resource_group\\\": \\\"alarrigh-rg\\\", \\\"workspace_name\\\": \\\"alarrigh-machine-learning\\\", \\\"region\\\": \\\"westeurope\\\", \\\"compute_target\\\": \\\"local\\\", \\\"spark_service\\\": null, \\\"azure_service\\\": null, \\\"iterations\\\": 15, \\\"primary_metric\\\": \\\"normalized_mean_absolute_error\\\", \\\"task_type\\\": \\\"regression\\\", \\\"data_script\\\": null, \\\"validation_size\\\": 0.0, \\\"n_cross_validations\\\": 5, \\\"y_min\\\": 12789, \\\"y_max\\\": 755000, \\\"num_classes\\\": null, \\\"featurization\\\": \\\"auto\\\", \\\"preprocess\\\": true, \\\"lag_length\\\": 0, \\\"is_timeseries\\\": false, \\\"max_cores_per_iteration\\\": 1, \\\"max_concurrent_iterations\\\": 1, \\\"iteration_timeout_minutes\\\": 15, \\\"mem_in_mb\\\": null, \\\"enforce_time_on_windows\\\": false, \\\"experiment_timeout_minutes\\\": null, \\\"experiment_exit_score\\\": null, \\\"whitelist_models\\\": null, \\\"blacklist_algos\\\": [\\\"XGBoostRegressor\\\", \\\"Prophet\\\"], \\\"supported_models\\\": [\\\"TensorFlowDNN\\\", \\\"SGD\\\", \\\"OnlineGradientDescentRegressor\\\", \\\"LassoLars\\\", \\\"ElasticNet\\\", \\\"RandomForest\\\", \\\"LightGBM\\\", \\\"TensorFlowLinearRegressor\\\", \\\"XGBoostRegressor\\\", \\\"GradientBoosting\\\", \\\"DecisionTree\\\", \\\"KNN\\\", \\\"ExtremeRandomTrees\\\", \\\"FastLinearRegressor\\\"], \\\"auto_blacklist\\\": true, \\\"blacklist_samples_reached\\\": false, \\\"exclude_nan_labels\\\": true, \\\"verbosity\\\": 20, \\\"debug_log\\\": \\\"automated_ml_errors.log\\\", \\\"show_warnings\\\": false, \\\"model_explainability\\\": true, \\\"service_url\\\": null, \\\"sdk_url\\\": null, \\\"sdk_packages\\\": null, \\\"enable_onnx_compatible_models\\\": false, \\\"enable_split_onnx_featurizer_estimator_models\\\": false, \\\"vm_type\\\": null, \\\"telemetry_verbosity\\\": \\\"INFO\\\", \\\"send_telemetry\\\": true, \\\"enable_dnn\\\": false, \\\"force_text_dnn\\\": false, \\\"enable_feature_sweeping\\\": true, \\\"enable_early_stopping\\\": false, \\\"early_stopping_n_iters\\\": 10, \\\"metrics\\\": null, \\\"enable_ensembling\\\": true, \\\"enable_stack_ensembling\\\": true, \\\"ensemble_iterations\\\": 15, \\\"enable_tf\\\": false, \\\"enable_cache\\\": true, \\\"enable_subsampling\\\": false, \\\"subsample_seed\\\": null, \\\"enable_nimbusml\\\": false, \\\"enable_streaming\\\": false, \\\"label_column_name\\\": null, \\\"weight_column_name\\\": null, \\\"cost_mode\\\": 0, \\\"metric_operation\\\": \\\"minimize\\\"}\", \"DataPrepJsonString\": null, \"EnableSubsampling\": \"False\", \"Properties\": \"[display_task_type, regression],[dependencies_versions, {\\\"azureml-widgets\\\": \\\"1.0.83\\\", \\\"azureml-train\\\": \\\"1.0.83\\\", \\\"azureml-train-restclients-hyperdrive\\\": \\\"1.0.83\\\", \\\"azureml-train-core\\\": \\\"1.0.83\\\", \\\"azureml-train-automl\\\": \\\"1.0.83\\\", \\\"azureml-train-automl-runtime\\\": \\\"1.0.83.1\\\", \\\"azureml-train-automl-client\\\": \\\"1.0.83\\\", \\\"azureml-tensorboard\\\": \\\"1.0.83\\\", \\\"azureml-telemetry\\\": \\\"1.0.83\\\", \\\"azureml-sdk\\\": \\\"1.0.83\\\", \\\"azureml-samples\\\": \\\"0+unknown\\\", \\\"azureml-pipeline\\\": \\\"1.0.83\\\", \\\"azureml-pipeline-steps\\\": \\\"1.0.83\\\", \\\"azureml-pipeline-core\\\": \\\"1.0.83\\\", \\\"azureml-opendatasets\\\": \\\"1.0.83\\\", \\\"azureml-model-management-sdk\\\": \\\"1.0.1b6.post1\\\", \\\"azureml-mlflow\\\": \\\"1.0.83\\\", \\\"azureml-interpret\\\": \\\"1.0.83\\\", \\\"azureml-explain-model\\\": \\\"1.0.83\\\", \\\"azureml-defaults\\\": \\\"1.0.83\\\", \\\"azureml-dataprep\\\": \\\"1.1.35\\\", \\\"azureml-dataprep-native\\\": \\\"13.2.0\\\", \\\"azureml-datadrift\\\": \\\"1.0.83\\\", \\\"azureml-core\\\": \\\"1.0.83\\\", \\\"azureml-contrib-services\\\": \\\"1.0.83\\\", \\\"azureml-contrib-server\\\": \\\"1.0.83\\\", \\\"azureml-contrib-reinforcementlearning\\\": \\\"1.0.83\\\", \\\"azureml-contrib-pipeline-steps\\\": \\\"1.0.83\\\", \\\"azureml-contrib-notebook\\\": \\\"1.0.83\\\", \\\"azureml-contrib-interpret\\\": \\\"1.0.83\\\", \\\"azureml-contrib-datadrift\\\": \\\"1.0.83\\\", \\\"azureml-automl-runtime\\\": \\\"1.0.83\\\", \\\"azureml-automl-core\\\": \\\"1.0.83.1\\\"}]\", \"runTemplate\": \"AutoML\", \"azureml.runsource\": \"automl\", \"display_task_type\": \"regression\", \"dependencies_versions\": \"{\\\"azureml-widgets\\\": \\\"1.0.83\\\", \\\"azureml-train\\\": \\\"1.0.83\\\", \\\"azureml-train-restclients-hyperdrive\\\": \\\"1.0.83\\\", \\\"azureml-train-core\\\": \\\"1.0.83\\\", \\\"azureml-train-automl\\\": \\\"1.0.83\\\", \\\"azureml-train-automl-runtime\\\": \\\"1.0.83.1\\\", \\\"azureml-train-automl-client\\\": \\\"1.0.83\\\", \\\"azureml-tensorboard\\\": \\\"1.0.83\\\", \\\"azureml-telemetry\\\": \\\"1.0.83\\\", \\\"azureml-sdk\\\": \\\"1.0.83\\\", \\\"azureml-samples\\\": \\\"0+unknown\\\", \\\"azureml-pipeline\\\": \\\"1.0.83\\\", \\\"azureml-pipeline-steps\\\": \\\"1.0.83\\\", \\\"azureml-pipeline-core\\\": \\\"1.0.83\\\", \\\"azureml-opendatasets\\\": \\\"1.0.83\\\", \\\"azureml-model-management-sdk\\\": \\\"1.0.1b6.post1\\\", \\\"azureml-mlflow\\\": \\\"1.0.83\\\", \\\"azureml-interpret\\\": \\\"1.0.83\\\", \\\"azureml-explain-model\\\": \\\"1.0.83\\\", \\\"azureml-defaults\\\": \\\"1.0.83\\\", \\\"azureml-dataprep\\\": \\\"1.1.35\\\", \\\"azureml-dataprep-native\\\": \\\"13.2.0\\\", \\\"azureml-datadrift\\\": \\\"1.0.83\\\", \\\"azureml-core\\\": \\\"1.0.83\\\", \\\"azureml-contrib-services\\\": \\\"1.0.83\\\", \\\"azureml-contrib-server\\\": \\\"1.0.83\\\", \\\"azureml-contrib-reinforcementlearning\\\": \\\"1.0.83\\\", \\\"azureml-contrib-pipeline-steps\\\": \\\"1.0.83\\\", \\\"azureml-contrib-notebook\\\": \\\"1.0.83\\\", \\\"azureml-contrib-interpret\\\": \\\"1.0.83\\\", \\\"azureml-contrib-datadrift\\\": \\\"1.0.83\\\", \\\"azureml-automl-runtime\\\": \\\"1.0.83\\\", \\\"azureml-automl-core\\\": \\\"1.0.83.1\\\"}\", \"ClientType\": \"SDK\", \"ClientSdkVersion\": \"1.0.83\", \"ProblemInfoJsonString\": \"{\\\"dataset_num_categorical\\\": 0, \\\"is_sparse\\\": true, \\\"subsampling\\\": false, \\\"dataset_classes\\\": 741, \\\"dataset_features\\\": 458, \\\"dataset_samples\\\": 1756, \\\"single_frequency_class_detected\\\": false}\", \"feature_skus\": \"automatedml_sdk_guardrails\", \"azureml.git.repository_uri\": \"https://github.com/Azure/Ignite2019-pre-day.git\", \"mlflow.source.git.repoURL\": \"https://github.com/Azure/Ignite2019-pre-day.git\", \"azureml.git.branch\": \"master\", \"mlflow.source.git.branch\": \"master\", \"azureml.git.commit\": \"da668d350bfa4acf92c0eb11ca98417284826a8e\", \"mlflow.source.git.commit\": \"da668d350bfa4acf92c0eb11ca98417284826a8e\", \"azureml.git.dirty\": \"True\"}, \"tags\": {\"model_explain_run\": \"best_run\", \"experiment_status\": \"BestRunExplainModel\", \"experiment_status_descr\": \"Best run model explanations completed\", \"model_explain_best_run_child_id\": \"AutoML_a2c5e0eb-d29f-4019-8d8f-6512df3001c8_13\", \"best_score\": \"0.01969811786337141\", \"best_pipeline\": \"VotingEnsemble\"}, \"end_time_utc\": \"2020-02-25T20:49:08.166056Z\", \"status\": \"Completed\", \"log_files\": {}, \"log_groups\": [], \"run_duration\": \"0:06:48\"}, \"child_runs\": [{\"run_id\": \"AutoML_a2c5e0eb-d29f-4019-8d8f-6512df3001c8_0\", \"run_number\": 32, \"metric\": null, \"status\": \"Completed\", \"run_type\": null, \"training_percent\": null, \"start_time\": \"2020-02-25T20:42:36.458856Z\", \"end_time\": \"2020-02-25T20:43:01.134678Z\", \"created_time\": \"2020-02-25T20:42:36.349809Z\", \"created_time_dt\": \"2020-02-25T20:42:36.349809Z\", \"duration\": \"0:00:24\", \"iteration\": \"0\", \"goal\": \"normalized_mean_absolute_error_min\", \"run_name\": \"MaxAbsScaler, LightGBM\", \"run_properties\": \"copy=True\", \"primary_metric\": 0.02179495, \"best_metric\": 0.02179495}, {\"run_id\": \"AutoML_a2c5e0eb-d29f-4019-8d8f-6512df3001c8_1\", \"run_number\": 33, \"metric\": null, \"status\": \"Completed\", \"run_type\": null, \"training_percent\": \"100\", \"start_time\": \"2020-02-25T20:43:02.276377Z\", \"end_time\": \"2020-02-25T20:43:37.647061Z\", \"created_time\": \"2020-02-25T20:43:02.058307Z\", \"created_time_dt\": \"2020-02-25T20:43:02.058307Z\", \"duration\": \"0:00:35\", \"iteration\": \"1\", \"goal\": \"normalized_mean_absolute_error_min\", \"run_name\": \"StandardScalerWrapper, ElasticNet\", \"run_properties\": \"<automl.client.core.runtime.model_wrappers.StandardScalerWrapper object at 0x7f0de59bc908\", \"primary_metric\": 0.02307191, \"best_metric\": 0.02179495}, {\"run_id\": \"AutoML_a2c5e0eb-d29f-4019-8d8f-6512df3001c8_2\", \"run_number\": 34, \"metric\": null, \"status\": \"Completed\", \"run_type\": null, \"training_percent\": \"100\", \"start_time\": \"2020-02-25T20:43:42.022985Z\", \"end_time\": \"2020-02-25T20:44:15.441472Z\", \"created_time\": \"2020-02-25T20:43:41.901193Z\", \"created_time_dt\": \"2020-02-25T20:43:41.901193Z\", \"duration\": \"0:00:33\", \"iteration\": \"2\", \"goal\": \"normalized_mean_absolute_error_min\", \"run_name\": \"StandardScalerWrapper, ElasticNet\", \"run_properties\": \"<automl.client.core.runtime.model_wrappers.StandardScalerWrapper object at 0x7f0dd450a630\", \"primary_metric\": 0.02476666, \"best_metric\": 0.02179495}, {\"run_id\": \"AutoML_a2c5e0eb-d29f-4019-8d8f-6512df3001c8_3\", \"run_number\": 35, \"metric\": null, \"status\": \"Completed\", \"run_type\": null, \"training_percent\": \"100\", \"start_time\": \"2020-02-25T20:44:18.153349Z\", \"end_time\": \"2020-02-25T20:44:45.67955Z\", \"created_time\": \"2020-02-25T20:44:16.72592Z\", \"created_time_dt\": \"2020-02-25T20:44:16.72592Z\", \"duration\": \"0:00:28\", \"iteration\": \"3\", \"goal\": \"normalized_mean_absolute_error_min\", \"run_name\": \"StandardScalerWrapper, ElasticNet\", \"run_properties\": \"<automl.client.core.runtime.model_wrappers.StandardScalerWrapper object at 0x7f0d7f0bccf8\", \"primary_metric\": 0.02347681, \"best_metric\": 0.02179495}, {\"run_id\": \"AutoML_a2c5e0eb-d29f-4019-8d8f-6512df3001c8_4\", \"run_number\": 36, \"metric\": null, \"status\": \"Completed\", \"run_type\": null, \"training_percent\": \"100\", \"start_time\": \"2020-02-25T20:44:47.063311Z\", \"end_time\": \"2020-02-25T20:45:07.546518Z\", \"created_time\": \"2020-02-25T20:44:46.908657Z\", \"created_time_dt\": \"2020-02-25T20:44:46.908657Z\", \"duration\": \"0:00:20\", \"iteration\": \"4\", \"goal\": \"normalized_mean_absolute_error_min\", \"run_name\": \"StandardScalerWrapper, ElasticNet\", \"run_properties\": \"<automl.client.core.runtime.model_wrappers.StandardScalerWrapper object at 0x7f0de4333978\", \"primary_metric\": 0.02254169, \"best_metric\": 0.02179495}, {\"run_id\": \"AutoML_a2c5e0eb-d29f-4019-8d8f-6512df3001c8_5\", \"run_number\": 37, \"metric\": null, \"status\": \"Completed\", \"run_type\": null, \"training_percent\": \"100\", \"start_time\": \"2020-02-25T20:45:09.406387Z\", \"end_time\": \"2020-02-25T20:45:28.00279Z\", \"created_time\": \"2020-02-25T20:45:09.227112Z\", \"created_time_dt\": \"2020-02-25T20:45:09.227112Z\", \"duration\": \"0:00:18\", \"iteration\": \"5\", \"goal\": \"normalized_mean_absolute_error_min\", \"run_name\": \"StandardScalerWrapper, DecisionTree\", \"run_properties\": \"<automl.client.core.runtime.model_wrappers.StandardScalerWrapper object at 0x7f0de42abbe0\", \"primary_metric\": 0.03240514, \"best_metric\": 0.02179495}, {\"run_id\": \"AutoML_a2c5e0eb-d29f-4019-8d8f-6512df3001c8_6\", \"run_number\": 38, \"metric\": null, \"status\": \"Completed\", \"run_type\": null, \"training_percent\": \"100\", \"start_time\": \"2020-02-25T20:45:31.07195Z\", \"end_time\": \"2020-02-25T20:45:50.480146Z\", \"created_time\": \"2020-02-25T20:45:30.52828Z\", \"created_time_dt\": \"2020-02-25T20:45:30.52828Z\", \"duration\": \"0:00:19\", \"iteration\": \"6\", \"goal\": \"normalized_mean_absolute_error_min\", \"run_name\": \"MaxAbsScaler, GradientBoosting\", \"run_properties\": \"copy=True\", \"primary_metric\": 0.03531277, \"best_metric\": 0.02179495}, {\"run_id\": \"AutoML_a2c5e0eb-d29f-4019-8d8f-6512df3001c8_7\", \"run_number\": 39, \"metric\": null, \"status\": \"Completed\", \"run_type\": null, \"training_percent\": \"100\", \"start_time\": \"2020-02-25T20:45:53.047185Z\", \"end_time\": \"2020-02-25T20:46:10.978396Z\", \"created_time\": \"2020-02-25T20:45:52.869777Z\", \"created_time_dt\": \"2020-02-25T20:45:52.869777Z\", \"duration\": \"0:00:18\", \"iteration\": \"7\", \"goal\": \"normalized_mean_absolute_error_min\", \"run_name\": \"MaxAbsScaler, DecisionTree\", \"run_properties\": \"copy=True\", \"primary_metric\": 0.03419849, \"best_metric\": 0.02179495}, {\"run_id\": \"AutoML_a2c5e0eb-d29f-4019-8d8f-6512df3001c8_8\", \"run_number\": 40, \"metric\": null, \"status\": \"Completed\", \"run_type\": null, \"training_percent\": \"100\", \"start_time\": \"2020-02-25T20:46:12.257254Z\", \"end_time\": \"2020-02-25T20:46:30.871069Z\", \"created_time\": \"2020-02-25T20:46:12.132884Z\", \"created_time_dt\": \"2020-02-25T20:46:12.132884Z\", \"duration\": \"0:00:18\", \"iteration\": \"8\", \"goal\": \"normalized_mean_absolute_error_min\", \"run_name\": \"MaxAbsScaler, LightGBM\", \"run_properties\": \"copy=True\", \"primary_metric\": 0.02264726, \"best_metric\": 0.02179495}, {\"run_id\": \"AutoML_a2c5e0eb-d29f-4019-8d8f-6512df3001c8_9\", \"run_number\": 41, \"metric\": null, \"status\": \"Completed\", \"run_type\": null, \"training_percent\": \"100\", \"start_time\": \"2020-02-25T20:46:32.285386Z\", \"end_time\": \"2020-02-25T20:46:53.879361Z\", \"created_time\": \"2020-02-25T20:46:32.111001Z\", \"created_time_dt\": \"2020-02-25T20:46:32.111001Z\", \"duration\": \"0:00:21\", \"iteration\": \"9\", \"goal\": \"normalized_mean_absolute_error_min\", \"run_name\": \"StandardScalerWrapper, ElasticNet\", \"run_properties\": \"<automl.client.core.runtime.model_wrappers.StandardScalerWrapper object at 0x7f0dd45617f0\", \"primary_metric\": 0.0230311, \"best_metric\": 0.02179495}, {\"run_id\": \"AutoML_a2c5e0eb-d29f-4019-8d8f-6512df3001c8_10\", \"run_number\": 42, \"metric\": null, \"status\": \"Completed\", \"run_type\": null, \"training_percent\": \"100\", \"start_time\": \"2020-02-25T20:46:55.478991Z\", \"end_time\": \"2020-02-25T20:47:17.854752Z\", \"created_time\": \"2020-02-25T20:46:55.348599Z\", \"created_time_dt\": \"2020-02-25T20:46:55.348599Z\", \"duration\": \"0:00:22\", \"iteration\": \"10\", \"goal\": \"normalized_mean_absolute_error_min\", \"run_name\": \"MaxAbsScaler, RandomForest\", \"run_properties\": \"copy=True\", \"primary_metric\": 0.02599223, \"best_metric\": 0.02179495}, {\"run_id\": \"AutoML_a2c5e0eb-d29f-4019-8d8f-6512df3001c8_11\", \"run_number\": 43, \"metric\": null, \"status\": \"Completed\", \"run_type\": null, \"training_percent\": \"100\", \"start_time\": \"2020-02-25T20:47:19.556287Z\", \"end_time\": \"2020-02-25T20:47:36.951132Z\", \"created_time\": \"2020-02-25T20:47:19.443709Z\", \"created_time_dt\": \"2020-02-25T20:47:19.443709Z\", \"duration\": \"0:00:17\", \"iteration\": \"11\", \"goal\": \"normalized_mean_absolute_error_min\", \"run_name\": \"MaxAbsScaler, DecisionTree\", \"run_properties\": \"copy=True\", \"primary_metric\": 0.03694362, \"best_metric\": 0.02179495}, {\"run_id\": \"AutoML_a2c5e0eb-d29f-4019-8d8f-6512df3001c8_12\", \"run_number\": 44, \"metric\": null, \"status\": \"Completed\", \"run_type\": null, \"training_percent\": \"100\", \"start_time\": \"2020-02-25T20:47:38.260683Z\", \"end_time\": \"2020-02-25T20:48:06.495567Z\", \"created_time\": \"2020-02-25T20:47:38.14177Z\", \"created_time_dt\": \"2020-02-25T20:47:38.14177Z\", \"duration\": \"0:00:28\", \"iteration\": \"12\", \"goal\": \"normalized_mean_absolute_error_min\", \"run_name\": \"StandardScalerWrapper, ElasticNet\", \"run_properties\": \"<automl.client.core.runtime.model_wrappers.StandardScalerWrapper object at 0x7f0dd46b64e0\", \"primary_metric\": 0.02387334, \"best_metric\": 0.02179495}, {\"run_id\": \"AutoML_a2c5e0eb-d29f-4019-8d8f-6512df3001c8_13\", \"run_number\": 45, \"metric\": null, \"status\": \"Completed\", \"run_type\": null, \"training_percent\": \"100\", \"start_time\": \"2020-02-25T20:48:07.693797Z\", \"end_time\": \"2020-02-25T20:48:33.523254Z\", \"created_time\": \"2020-02-25T20:48:07.516265Z\", \"created_time_dt\": \"2020-02-25T20:48:07.516265Z\", \"duration\": \"0:00:26\", \"iteration\": \"13\", \"goal\": \"normalized_mean_absolute_error_min\", \"run_name\": \"VotingEnsemble\", \"run_properties\": \"estimators=[('0', Pipeline(memory=None,\\n     steps=[('maxabsscaler', MaxAbsScaler(copy=True\", \"primary_metric\": 0.01969812, \"best_metric\": 0.01969812}, {\"run_id\": \"AutoML_a2c5e0eb-d29f-4019-8d8f-6512df3001c8_14\", \"run_number\": 46, \"metric\": null, \"status\": \"Completed\", \"run_type\": null, \"training_percent\": \"100\", \"start_time\": \"2020-02-25T20:48:34.802955Z\", \"end_time\": \"2020-02-25T20:49:06.268776Z\", \"created_time\": \"2020-02-25T20:48:34.649804Z\", \"created_time_dt\": \"2020-02-25T20:48:34.649804Z\", \"duration\": \"0:00:31\", \"iteration\": \"14\", \"goal\": \"normalized_mean_absolute_error_min\", \"run_name\": \"StackEnsemble\", \"run_properties\": \"base_learners=[('0', Pipeline(memory=None,\\n     steps=[('maxabsscaler', MaxAbsScaler(copy=True\", \"primary_metric\": 0.02030347, \"best_metric\": 0.01969812}], \"children_metrics\": {\"categories\": [0], \"series\": {\"root_mean_squared_log_error\": [{\"categories\": [\"0\", \"1\", \"2\", \"3\", \"4\", \"5\", \"6\", \"7\", \"8\", \"9\", \"10\", \"11\", \"12\", \"13\", \"14\"], \"mode\": \"markers\", \"name\": \"root_mean_squared_log_error\", \"stepped\": false, \"type\": \"scatter\", \"data\": [0.14002611307277216, 0.15809071425539983, 0.15752009162398678, 0.16561171655500442, 0.145717579795078, 0.20014188551092568, 0.20619666171989878, 0.20603171976407125, 0.14314137895201126, 0.15881876052302807, 0.16861958542112016, 0.21620437209732896, 0.1706141546635762, 0.131639927696928, 0.1347673045576919]}, {\"categories\": [\"0\", \"1\", \"2\", \"3\", \"4\", \"5\", \"6\", \"7\", \"8\", \"9\", \"10\", \"11\", \"12\", \"13\", \"14\"], \"mode\": \"lines\", \"name\": \"root_mean_squared_log_error_min\", \"stepped\": true, \"type\": \"scatter\", \"data\": [0.14002611307277216, 0.14002611307277216, 0.14002611307277216, 0.14002611307277216, 0.14002611307277216, 0.14002611307277216, 0.14002611307277216, 0.14002611307277216, 0.14002611307277216, 0.14002611307277216, 0.14002611307277216, 0.14002611307277216, 0.14002611307277216, 0.131639927696928, 0.131639927696928]}], \"median_absolute_error\": [{\"categories\": [\"0\", \"1\", \"2\", \"3\", \"4\", \"5\", \"6\", \"7\", \"8\", \"9\", \"10\", \"11\", \"12\", \"13\", \"14\"], \"mode\": \"markers\", \"name\": \"median_absolute_error\", \"stepped\": false, \"type\": \"scatter\", \"data\": [9788.11988033823, 12125.695331429166, 12673.774463180594, 11709.00368506854, 10751.974376206228, 15125.972039072041, 16511.84722368009, 17083.910315430523, 10985.669144747511, 11458.366073883552, 12101.055255360441, 18314.707434700376, 11667.295403384438, 9336.384958166082, 9475.908873533708]}, {\"categories\": [\"0\", \"1\", \"2\", \"3\", \"4\", \"5\", \"6\", \"7\", \"8\", \"9\", \"10\", \"11\", \"12\", \"13\", \"14\"], \"mode\": \"lines\", \"name\": \"median_absolute_error_min\", \"stepped\": true, \"type\": \"scatter\", \"data\": [9788.11988033823, 9788.11988033823, 9788.11988033823, 9788.11988033823, 9788.11988033823, 9788.11988033823, 9788.11988033823, 9788.11988033823, 9788.11988033823, 9788.11988033823, 9788.11988033823, 9788.11988033823, 9788.11988033823, 9336.384958166082, 9336.384958166082]}], \"normalized_root_mean_squared_error\": [{\"categories\": [\"0\", \"1\", \"2\", \"3\", \"4\", \"5\", \"6\", \"7\", \"8\", \"9\", \"10\", \"11\", \"12\", \"13\", \"14\"], \"mode\": \"markers\", \"name\": \"normalized_root_mean_squared_error\", \"stepped\": false, \"type\": \"scatter\", \"data\": [0.03596789521771766, 0.04022118947004535, 0.04255803303091955, 0.04058523277312916, 0.03888189941798115, 0.050038309907684896, 0.059534391102095505, 0.05331148291250942, 0.0362419639956207, 0.039868510464167714, 0.04140654334903334, 0.05661076456155999, 0.04121896546162424, 0.034327088252471924, 0.0360101264458826]}, {\"categories\": [\"0\", \"1\", \"2\", \"3\", \"4\", \"5\", \"6\", \"7\", \"8\", \"9\", \"10\", \"11\", \"12\", \"13\", \"14\"], \"mode\": \"lines\", \"name\": \"normalized_root_mean_squared_error_min\", \"stepped\": true, \"type\": \"scatter\", \"data\": [0.03596789521771766, 0.03596789521771766, 0.03596789521771766, 0.03596789521771766, 0.03596789521771766, 0.03596789521771766, 0.03596789521771766, 0.03596789521771766, 0.03596789521771766, 0.03596789521771766, 0.03596789521771766, 0.03596789521771766, 0.03596789521771766, 0.034327088252471924, 0.034327088252471924]}], \"normalized_median_absolute_error\": [{\"categories\": [\"0\", \"1\", \"2\", \"3\", \"4\", \"5\", \"6\", \"7\", \"8\", \"9\", \"10\", \"11\", \"12\", \"13\", \"14\"], \"mode\": \"markers\", \"name\": \"normalized_median_absolute_error\", \"stepped\": false, \"type\": \"scatter\", \"data\": [0.013187786061292853, 0.01633726168357673, 0.017075702816558357, 0.015775842294264757, 0.01448641205291518, 0.020379611780305115, 0.022246837117315822, 0.023017592457442053, 0.014801275034656603, 0.015438151784173978, 0.016304063474349532, 0.02467587712213963, 0.015719647651927064, 0.012579151963748963, 0.012767136129124612]}, {\"categories\": [\"0\", \"1\", \"2\", \"3\", \"4\", \"5\", \"6\", \"7\", \"8\", \"9\", \"10\", \"11\", \"12\", \"13\", \"14\"], \"mode\": \"lines\", \"name\": \"normalized_median_absolute_error_min\", \"stepped\": true, \"type\": \"scatter\", \"data\": [0.013187786061292853, 0.013187786061292853, 0.013187786061292853, 0.013187786061292853, 0.013187786061292853, 0.013187786061292853, 0.013187786061292853, 0.013187786061292853, 0.013187786061292853, 0.013187786061292853, 0.013187786061292853, 0.013187786061292853, 0.013187786061292853, 0.012579151963748963, 0.012579151963748963]}], \"r2_score\": [{\"categories\": [\"0\", \"1\", \"2\", \"3\", \"4\", \"5\", \"6\", \"7\", \"8\", \"9\", \"10\", \"11\", \"12\", \"13\", \"14\"], \"mode\": \"markers\", \"name\": \"r2_score\", \"stepped\": false, \"type\": \"scatter\", \"data\": [0.8917463579450583, 0.8522493282176203, 0.8373047409655072, 0.8465889953163407, 0.8660823476537995, 0.7914982189530585, 0.706291859456066, 0.7626483388185172, 0.890527237961827, 0.85376213173145, 0.8573984033290177, 0.7328516435844219, 0.8407079340585687, 0.8984668008045225, 0.8869364536042708]}, {\"categories\": [\"0\", \"1\", \"2\", \"3\", \"4\", \"5\", \"6\", \"7\", \"8\", \"9\", \"10\", \"11\", \"12\", \"13\", \"14\"], \"mode\": \"lines\", \"name\": \"r2_score_max\", \"stepped\": true, \"type\": \"scatter\", \"data\": [0.8917463579450583, 0.8917463579450583, 0.8917463579450583, 0.8917463579450583, 0.8917463579450583, 0.8917463579450583, 0.8917463579450583, 0.8917463579450583, 0.8917463579450583, 0.8917463579450583, 0.8917463579450583, 0.8917463579450583, 0.8917463579450583, 0.8984668008045225, 0.8984668008045225]}], \"root_mean_squared_error\": [{\"categories\": [\"0\", \"1\", \"2\", \"3\", \"4\", \"5\", \"6\", \"7\", \"8\", \"9\", \"10\", \"11\", \"12\", \"13\", \"14\"], \"mode\": \"markers\", \"name\": \"root_mean_squared_error\", \"stepped\": false, \"type\": \"scatter\", \"data\": [26695.767477437446, 29852.609257751825, 31587.04025391183, 30122.806201776963, 28858.573448919204, 37138.98403489271, 44187.07995427741, 39568.369043976534, 26899.18433915364, 29590.84702012038, 30732.391945629388, 42017.13217600001, 30593.169574237585, 25477.942498955443, 26727.111959524977]}, {\"categories\": [\"0\", \"1\", \"2\", \"3\", \"4\", \"5\", \"6\", \"7\", \"8\", \"9\", \"10\", \"11\", \"12\", \"13\", \"14\"], \"mode\": \"lines\", \"name\": \"root_mean_squared_error_min\", \"stepped\": true, \"type\": \"scatter\", \"data\": [26695.767477437446, 26695.767477437446, 26695.767477437446, 26695.767477437446, 26695.767477437446, 26695.767477437446, 26695.767477437446, 26695.767477437446, 26695.767477437446, 26695.767477437446, 26695.767477437446, 26695.767477437446, 26695.767477437446, 25477.942498955443, 25477.942498955443]}], \"mean_absolute_error\": [{\"categories\": [\"0\", \"1\", \"2\", \"3\", \"4\", \"5\", \"6\", \"7\", \"8\", \"9\", \"10\", \"11\", \"12\", \"13\", \"14\"], \"mode\": \"markers\", \"name\": \"mean_absolute_error\", \"stepped\": false, \"type\": \"scatter\", \"data\": [16176.448166089738, 17124.222949079012, 18382.09074223443, 17424.745770780504, 16730.69016780555, 24051.449945614786, 26209.527385019886, 25382.495645439507, 16809.047233880337, 17093.9349300871, 19291.721199359887, 27419.957715166245, 17719.055519751702, 14620.159757490761, 15069.455891885638]}, {\"categories\": [\"0\", \"1\", \"2\", \"3\", \"4\", \"5\", \"6\", \"7\", \"8\", \"9\", \"10\", \"11\", \"12\", \"13\", \"14\"], \"mode\": \"lines\", \"name\": \"mean_absolute_error_min\", \"stepped\": true, \"type\": \"scatter\", \"data\": [16176.448166089738, 16176.448166089738, 16176.448166089738, 16176.448166089738, 16176.448166089738, 16176.448166089738, 16176.448166089738, 16176.448166089738, 16176.448166089738, 16176.448166089738, 16176.448166089738, 16176.448166089738, 16176.448166089738, 14620.159757490761, 14620.159757490761]}], \"mean_absolute_percentage_error\": [{\"categories\": [\"0\", \"1\", \"2\", \"3\", \"4\", \"5\", \"6\", \"7\", \"8\", \"9\", \"10\", \"11\", \"12\", \"13\", \"14\"], \"mode\": \"markers\", \"name\": \"mean_absolute_percentage_error\", \"stepped\": false, \"type\": \"scatter\", \"data\": [9.70461526154244, 10.499511296526121, 11.361274971724573, 10.787512756472116, 10.072699980121033, 14.695873712983934, 15.247620023341252, 15.311255526858597, 10.167876421858036, 10.494433861516086, 11.985837810232791, 16.470841912165227, 11.044582717508879, 8.895843819708285, 9.152727615923272]}, {\"categories\": [\"0\", \"1\", \"2\", \"3\", \"4\", \"5\", \"6\", \"7\", \"8\", \"9\", \"10\", \"11\", \"12\", \"13\", \"14\"], \"mode\": \"lines\", \"name\": \"mean_absolute_percentage_error_min\", \"stepped\": true, \"type\": \"scatter\", \"data\": [9.70461526154244, 9.70461526154244, 9.70461526154244, 9.70461526154244, 9.70461526154244, 9.70461526154244, 9.70461526154244, 9.70461526154244, 9.70461526154244, 9.70461526154244, 9.70461526154244, 9.70461526154244, 9.70461526154244, 8.895843819708285, 8.895843819708285]}], \"normalized_root_mean_squared_log_error\": [{\"categories\": [\"0\", \"1\", \"2\", \"3\", \"4\", \"5\", \"6\", \"7\", \"8\", \"9\", \"10\", \"11\", \"12\", \"13\", \"14\"], \"mode\": \"markers\", \"name\": \"normalized_root_mean_squared_log_error\", \"stepped\": false, \"type\": \"scatter\", \"data\": [0.034336490641038754, 0.03876620018470817, 0.0386262750078028, 0.040610462082754234, 0.035732123138119305, 0.049077774337378435, 0.050562495737342915, 0.0505220495105763, 0.03510040028160164, 0.038944727984317, 0.04134803637446638, 0.05301653553157951, 0.04183713449069349, 0.03228007295327476, 0.033046952387075904]}, {\"categories\": [\"0\", \"1\", \"2\", \"3\", \"4\", \"5\", \"6\", \"7\", \"8\", \"9\", \"10\", \"11\", \"12\", \"13\", \"14\"], \"mode\": \"lines\", \"name\": \"normalized_root_mean_squared_log_error_min\", \"stepped\": true, \"type\": \"scatter\", \"data\": [0.034336490641038754, 0.034336490641038754, 0.034336490641038754, 0.034336490641038754, 0.034336490641038754, 0.034336490641038754, 0.034336490641038754, 0.034336490641038754, 0.034336490641038754, 0.034336490641038754, 0.034336490641038754, 0.034336490641038754, 0.034336490641038754, 0.03228007295327476, 0.03228007295327476]}], \"explained_variance\": [{\"categories\": [\"0\", \"1\", \"2\", \"3\", \"4\", \"5\", \"6\", \"7\", \"8\", \"9\", \"10\", \"11\", \"12\", \"13\", \"14\"], \"mode\": \"markers\", \"name\": \"explained_variance\", \"stepped\": false, \"type\": \"scatter\", \"data\": [0.8919629854199007, 0.8529752017581, 0.8378820898704648, 0.8477651533508179, 0.8670994440655176, 0.7918819255707358, 0.7098608002056498, 0.7632786375773991, 0.8906290531586709, 0.8548956742306005, 0.8577949052433235, 0.7337123132531513, 0.8419030426382047, 0.8987390785423989, 0.887359020898424]}, {\"categories\": [\"0\", \"1\", \"2\", \"3\", \"4\", \"5\", \"6\", \"7\", \"8\", \"9\", \"10\", \"11\", \"12\", \"13\", \"14\"], \"mode\": \"lines\", \"name\": \"explained_variance_max\", \"stepped\": true, \"type\": \"scatter\", \"data\": [0.8919629854199007, 0.8919629854199007, 0.8919629854199007, 0.8919629854199007, 0.8919629854199007, 0.8919629854199007, 0.8919629854199007, 0.8919629854199007, 0.8919629854199007, 0.8919629854199007, 0.8919629854199007, 0.8919629854199007, 0.8919629854199007, 0.8987390785423989, 0.8987390785423989]}], \"spearman_correlation\": [{\"categories\": [\"0\", \"1\", \"2\", \"3\", \"4\", \"5\", \"6\", \"7\", \"8\", \"9\", \"10\", \"11\", \"12\", \"13\", \"14\"], \"mode\": \"markers\", \"name\": \"spearman_correlation\", \"stepped\": false, \"type\": \"scatter\", \"data\": [0.9521069722523812, 0.947202487260099, 0.9405807977873852, 0.9405283509940399, 0.9486283176248431, 0.8871553860250625, 0.9100858794056851, 0.8737029269035604, 0.9460610115812823, 0.9436537107984174, 0.9248030879256552, 0.8623224744850292, 0.9377000601266182, 0.9579066810511552, 0.9566251697405962]}, {\"categories\": [\"0\", \"1\", \"2\", \"3\", \"4\", \"5\", \"6\", \"7\", \"8\", \"9\", \"10\", \"11\", \"12\", \"13\", \"14\"], \"mode\": \"lines\", \"name\": \"spearman_correlation_max\", \"stepped\": true, \"type\": \"scatter\", \"data\": [0.9521069722523812, 0.9521069722523812, 0.9521069722523812, 0.9521069722523812, 0.9521069722523812, 0.9521069722523812, 0.9521069722523812, 0.9521069722523812, 0.9521069722523812, 0.9521069722523812, 0.9521069722523812, 0.9521069722523812, 0.9521069722523812, 0.9579066810511552, 0.9579066810511552]}], \"normalized_mean_absolute_error\": [{\"categories\": [\"0\", \"1\", \"2\", \"3\", \"4\", \"5\", \"6\", \"7\", \"8\", \"9\", \"10\", \"11\", \"12\", \"13\", \"14\"], \"mode\": \"markers\", \"name\": \"normalized_mean_absolute_error\", \"stepped\": false, \"type\": \"scatter\", \"data\": [0.021794945326988873, 0.023071906707228824, 0.024766664388205552, 0.023476808846514673, 0.022541689853431912, 0.03240513808824551, 0.03531277141543293, 0.03419849024797464, 0.02264726234706887, 0.02303109887900759, 0.025992232935593634, 0.03694361538048647, 0.02387333995285936, 0.01969811786337141, 0.02030346611931868]}, {\"categories\": [\"0\", \"1\", \"2\", \"3\", \"4\", \"5\", \"6\", \"7\", \"8\", \"9\", \"10\", \"11\", \"12\", \"13\", \"14\"], \"mode\": \"lines\", \"name\": \"normalized_mean_absolute_error_min\", \"stepped\": true, \"type\": \"scatter\", \"data\": [0.021794945326988873, 0.021794945326988873, 0.021794945326988873, 0.021794945326988873, 0.021794945326988873, 0.021794945326988873, 0.021794945326988873, 0.021794945326988873, 0.021794945326988873, 0.021794945326988873, 0.021794945326988873, 0.021794945326988873, 0.021794945326988873, 0.01969811786337141, 0.01969811786337141]}]}, \"metricName\": null, \"primaryMetricName\": \"normalized_mean_absolute_error\", \"showLegend\": false}, \"run_metrics\": [], \"run_logs\": \"\\nRun is completed.\", \"graph\": {}, \"widget_settings\": {\"childWidgetDisplay\": \"popup\", \"send_telemetry\": false, \"log_level\": \"INFO\", \"sdk_version\": \"1.0.83\"}, \"loading\": false}"
     },
     "metadata": {},
     "output_type": "display_data"
    }
   ],
   "source": [
    "RunDetails(local_run).show()"
   ]
  },
  {
   "cell_type": "markdown",
   "metadata": {},
   "source": [
    "After the job is completed, we can access the best run and best trained model.\n",
    "\n",
    "By printing the best trained model, we can see the [steps](https://docs.microsoft.com/en-us/azure/machine-learning/service/how-to-configure-auto-train#understand-automated-ml-models) that were automatically executed."
   ]
  },
  {
   "cell_type": "code",
   "execution_count": 64,
   "metadata": {
    "scrolled": true
   },
   "outputs": [
    {
     "name": "stdout",
     "output_type": "stream",
     "text": [
      "Run(Experiment: 03_AML_Automated_ML,\n",
      "Id: AutoML_a2c5e0eb-d29f-4019-8d8f-6512df3001c8_13,\n",
      "Type: None,\n",
      "Status: Completed)\n",
      "RegressionPipeline(pipeline=Pipeline(memory=None,\n",
      "     steps=[('datatransformer', DataTransformer(enable_dnn=None, enable_feature_sweeping=None,\n",
      "        feature_sweeping_config=None, feature_sweeping_timeout=None,\n",
      "        featurization_config=None, force_text_dnn=None,\n",
      "        is_cross_validation=None, is_onnx_compatible=None, logger=None,\n",
      "        obser...7142857142857, 0.14285714285714285, 0.2857142857142857, 0.14285714285714285, 0.14285714285714285]))]),\n",
      "          stddev=None)\n"
     ]
    }
   ],
   "source": [
    "best_run, fitted_model = local_run.get_output()\n",
    "print(best_run)\n",
    "print(fitted_model)"
   ]
  },
  {
   "cell_type": "code",
   "execution_count": 65,
   "metadata": {},
   "outputs": [
    {
     "data": {
      "text/plain": [
       "'AutoMLa2c5e0ebd3'"
      ]
     },
     "execution_count": 65,
     "metadata": {},
     "output_type": "execute_result"
    }
   ],
   "source": [
    "description = 'housing price model trained using AutoML'\n",
    "tags = None\n",
    "model = local_run.register_model(description = description, tags = tags, iteration = 3)\n",
    "local_run.model_id # Use this id to deploy the model as a web service in Azur"
   ]
  },
  {
   "cell_type": "markdown",
   "metadata": {},
   "source": [
    "We will refer to the model name returned above in our upcoming deployment notebook.\n",
    "\n",
    "Here we compute model performance metrics for train and test datasets."
   ]
  },
  {
   "cell_type": "code",
   "execution_count": 66,
   "metadata": {
    "scrolled": true
   },
   "outputs": [
    {
     "name": "stdout",
     "output_type": "stream",
     "text": [
      "MAPE (Train): 0.051875\n",
      "MAPE (Test): 0.075910\n",
      "Acc (Train): 0.948125\n",
      "Acc (Test): 0.924090\n",
      "MAE (Train): 9393.188336\n",
      "MAE (Test): 13682.797109\n",
      "R2 (Train): 0.965626\n",
      "R2 (Test): 0.893618\n"
     ]
    }
   ],
   "source": [
    "def MAPE(y_actual, y_predict):\n",
    "    sum_actuals = sum_errors = 0\n",
    "    \n",
    "    for actual_val, predict_val in zip(y_actual, y_predict):\n",
    "        abs_error = actual_val - predict_val\n",
    "        if abs_error < 0:\n",
    "            abs_error = abs_error * -1\n",
    "\n",
    "        sum_errors = sum_errors + abs_error\n",
    "        sum_actuals = sum_actuals + actual_val\n",
    "\n",
    "    return sum_errors / sum_actuals\n",
    "\n",
    "y_pred_train = fitted_model.predict(X_train)\n",
    "y_pred_test = fitted_model.predict(X_test)\n",
    "y_true_train = y_train.values.flatten()\n",
    "y_true_test = y_test.values.flatten()\n",
    "\n",
    "print(\"MAPE (Train): %f\" % MAPE(y_true_train, y_pred_train))\n",
    "print(\"MAPE (Test): %f\" % MAPE(y_true_test, y_pred_test))\n",
    "\n",
    "print(\"Acc (Train): %f\" % (1 - MAPE(y_true_train, y_pred_train)))\n",
    "print(\"Acc (Test): %f\" % (1 - MAPE(y_true_test, y_pred_test)))\n",
    "\n",
    "print(\"MAE (Train): %f\" % mean_absolute_error(y_true_train, y_pred_train))\n",
    "print(\"MAE (Test): %f\" % mean_absolute_error(y_true_test, y_pred_test))\n",
    "\n",
    "print(\"R2 (Train): %f\" % r2_score(y_true_train, y_pred_train))\n",
    "print(\"R2 (Test): %f\" % r2_score(y_true_test, y_pred_test))"
   ]
  },
  {
   "cell_type": "markdown",
   "metadata": {},
   "source": [
    "Now let's visualize the plots for predicted versus actual values for both train and test datasets."
   ]
  },
  {
   "cell_type": "code",
   "execution_count": 67,
   "metadata": {},
   "outputs": [
    {
     "data": {
      "image/png": "[encoded data removed]",
      "text/plain": [
       "<Figure size 432x288 with 1 Axes>"
      ]
     },
     "metadata": {
      "needs_background": "light"
     },
     "output_type": "display_data"
    }
   ],
   "source": [
    "plt.scatter(y = y_pred_train, x = y_true_train)\n",
    "plt.plot(y_true_train, y_true_train, color = \"red\")\n",
    "plt.title(\"Predicted vs Actuals (Train)\")\n",
    "plt.xlabel(\"Actual Values\")\n",
    "plt.ylabel(\"Predicted Values\")\n",
    "plt.show()"
   ]
  },
  {
   "cell_type": "code",
   "execution_count": 68,
   "metadata": {
    "scrolled": true
   },
   "outputs": [
    {
     "data": {
      "image/png": "[encoded data removed]",
      "text/plain": [
       "<Figure size 432x288 with 1 Axes>"
      ]
     },
     "metadata": {
      "needs_background": "light"
     },
     "output_type": "display_data"
    }
   ],
   "source": [
    "plt.scatter(y = y_pred_test, x = y_true_test)\n",
    "plt.plot(y_true_test, y_true_test, color = \"red\")\n",
    "plt.title(\"Predicted vs Actuals (Test)\")\n",
    "plt.xlabel(\"Actual Values\")\n",
    "plt.ylabel(\"Predicted Values\")\n",
    "plt.show()"
   ]
  },
  {
   "cell_type": "markdown",
   "metadata": {},
   "source": [
    "Finally, let's plot the error distributions for both train and test datasets."
   ]
  },
  {
   "cell_type": "code",
   "execution_count": 69,
   "metadata": {},
   "outputs": [
    {
     "data": {
      "image/png": "[encoded data removed]",
      "text/plain": [
       "<Figure size 432x288 with 1 Axes>"
      ]
     },
     "metadata": {
      "needs_background": "light"
     },
     "output_type": "display_data"
    }
   ],
   "source": [
    "ax = sns.distplot(y_pred_train - y_true_train)\n",
    "ax.set(title = \"Distribution of Errors (Train)\", xlabel = \"SalePrice\", ylabel = \"frequency\")\n",
    "plt.show()"
   ]
  },
  {
   "cell_type": "code",
   "execution_count": 70,
   "metadata": {},
   "outputs": [
    {
     "data": {
      "image/png": "[encoded data removed]",
      "text/plain": [
       "<Figure size 432x288 with 1 Axes>"
      ]
     },
     "metadata": {
      "needs_background": "light"
     },
     "output_type": "display_data"
    }
   ],
   "source": [
    "ax = sns.distplot(y_pred_test - y_true_test)\n",
    "ax.set(title = \"Distribution of Errors (Test)\", xlabel = \"SalePrice\", ylabel = \"frequency\")\n",
    "plt.show()"
   ]
  },
  {
   "cell_type": "markdown",
   "metadata": {},
   "source": [
    "As a final step, we are going to show how to use some of the [model interpretability](https://docs.microsoft.com/en-us/azure/machine-learning/service/machine-learning-interpretability-explainability) features available on AML service.\n",
    "\n",
    "Please notice that these are experimental features, and the supported functionality and API interfaces are still evolving.\n",
    "\n",
    "Here we instantiate a **ExplanationClient** object, passing the best run from the job execution, to get variable feature importance scores for the engineered features (after the transformations performed automatically)."
   ]
  },
  {
   "cell_type": "code",
   "execution_count": 71,
   "metadata": {},
   "outputs": [
    {
     "data": {
      "text/plain": [
       "{'Gr.Liv.Area_MeanImputer': 14650.14747601538,\n",
       " 'Garage.Cars_E_CharGramCountVectorizer_6': 11382.943263147488,\n",
       " 'Year.Built_E_MeanImputer': 8734.88909576234,\n",
       " 'Total.Bsmt.SF_MeanImputer': 7056.449678361944,\n",
       " 'Bsmt.Qual_E_CharGramCountVectorizer_6': 6206.234418204015,\n",
       " 'Fireplaces_E_CharGramCountVectorizer_1': 4325.02353960381,\n",
       " 'Kitchen.Qual_E_CharGramCountVectorizer_5': 4197.5234391403255,\n",
       " 'BsmtFin.SF.1_MeanImputer': 3452.882416863508,\n",
       " 'Year.Remod.Add_E_MeanImputer': 3440.4197631459624,\n",
       " 'X1st.Flr.SF_MeanImputer': 3384.979641300417,\n",
       " 'Kitchen.Qual_E_CharGramCountVectorizer_3': 2958.338183438446,\n",
       " 'Exter.Qual_E_CharGramCountVectorizer_3': 2891.448188545328,\n",
       " 'Garage.Area_MeanImputer': 1975.5443317536838,\n",
       " 'X2nd.Flr.SF_MeanImputer': 1892.4683154947204,\n",
       " 'Lot.Area_MeanImputer': 1879.42322142754,\n",
       " 'Garage.Cars_E_CharGramCountVectorizer_4': 1871.992517547901,\n",
       " 'BsmtFin.Type.1_E_CharGramCountVectorizer_7': 1686.8290820704049,\n",
       " 'Kitchen.Qual_E_CharGramCountVectorizer_4': 1397.8710289489934,\n",
       " 'Overall.Qual_E_CharGramCountVectorizer_8': 1335.3353322556713,\n",
       " 'Bsmt.Exposure_E_CharGramCountVectorizer_5': 1295.8905778523913,\n",
       " 'Sale.Condition_E_CharGramCountVectorizer_2': 1061.0172045280672,\n",
       " 'Wood.Deck.SF_MeanImputer': 928.1495845200112,\n",
       " 'Fireplaces_E_CharGramCountVectorizer_3': 913.2221842045062,\n",
       " 'Half.Bath_E_CharGramCountVectorizer_3': 779.0998561042637,\n",
       " 'Lot.Shape_E_CharGramCountVectorizer_1': 768.7130597821057,\n",
       " 'MS.Zoning_E_CharGramCountVectorizer_4': 727.6745376160331,\n",
       " 'Overall.Qual_E_CharGramCountVectorizer_9': 721.4164392761647,\n",
       " 'Bsmt.Qual_E_CharGramCountVectorizer_5': 686.865010387116,\n",
       " 'Garage.Yr.Blt_E_MeanImputer': 674.8697988407438,\n",
       " 'Screen.Porch_MeanImputer': 666.9648406831466,\n",
       " 'Overall.Cond_E_CharGramCountVectorizer_9': 656.8616577229051,\n",
       " 'Full.Bath_E_CharGramCountVectorizer_5': 652.6766102568672,\n",
       " 'Mas.Vnr.Area_MeanImputer': 648.2934759775026,\n",
       " 'Functional_E_CharGramCountVectorizer_8': 638.9563081361696,\n",
       " 'Heating.QC_E_CharGramCountVectorizer_5': 627.6975360782783,\n",
       " 'Bsmt.Full.Bath_E_CharGramCountVectorizer_1': 626.8972278021034,\n",
       " 'Neighborhood_E_CharGramCountVectorizer_19': 626.1029585342848,\n",
       " 'Central.Air_E_ModeCatImputer_LabelEncoder': 615.8087618952917,\n",
       " 'Lot.Frontage_MeanImputer': 570.7782085542472,\n",
       " 'Exter.Qual_E_CharGramCountVectorizer_4': 542.601291630177,\n",
       " 'Overall.Qual_E_CharGramCountVectorizer_10': 534.6962043682736,\n",
       " 'Overall.Qual_E_CharGramCountVectorizer_4': 519.0263583342328,\n",
       " 'Garage.Type_E_CharGramCountVectorizer_6': 515.7523361337024,\n",
       " 'Overall.Qual_E_CharGramCountVectorizer_7': 503.96250629284634,\n",
       " 'Bsmt.Unf.SF_MeanImputer': 474.42791679607063,\n",
       " 'Exterior.1st_E_CharGramCountVectorizer_11': 457.939861674461,\n",
       " 'Bsmt.Exposure_E_CharGramCountVectorizer_4': 436.99545349073014,\n",
       " 'Full.Bath_E_CharGramCountVectorizer_1': 423.48064644701543,\n",
       " 'Overall.Cond_E_CharGramCountVectorizer_6': 420.70278742119774,\n",
       " 'Open.Porch.SF_MeanImputer': 380.78791092779284,\n",
       " 'Garage.Cond_E_CharGramCountVectorizer_5': 378.1053812497198,\n",
       " 'Neighborhood_E_CharGramCountVectorizer_26': 375.5539049811396,\n",
       " 'Overall.Cond_E_CharGramCountVectorizer_2': 354.1940700611857,\n",
       " 'Overall.Qual_E_CharGramCountVectorizer_5': 333.00673629143483,\n",
       " 'MS.SubClass_E_CharGramCountVectorizer_1': 325.99977521566245,\n",
       " 'MS.Zoning_E_CharGramCountVectorizer_6': 317.1596493715621,\n",
       " 'Condition.1_E_CharGramCountVectorizer_6': 307.94220381697755,\n",
       " 'MS.SubClass_E_CharGramCountVectorizer_13': 297.51646929100554,\n",
       " 'Half.Bath_E_CharGramCountVectorizer_1': 282.50101513233767,\n",
       " 'Bldg.Type_E_CharGramCountVectorizer_4': 267.6573257677935,\n",
       " 'Overall.Qual_E_CharGramCountVectorizer_6': 263.4818609433703,\n",
       " 'Garage.Type_E_CharGramCountVectorizer_3': 261.5123821593725,\n",
       " 'MS.Zoning_E_CharGramCountVectorizer_7': 259.0499632802406,\n",
       " 'Paved.Drive_E_CharGramCountVectorizer_1': 256.3499959118748,\n",
       " 'Garage.Finish_E_CharGramCountVectorizer_2': 251.55106388710195,\n",
       " 'Heating.QC_E_CharGramCountVectorizer_3': 233.73386289858533,\n",
       " 'Overall.Cond_E_CharGramCountVectorizer_4': 233.1914430731528,\n",
       " 'Yr.Sold_E_CharGramCountVectorizer_3': 230.81721451272213,\n",
       " 'Paved.Drive_E_CharGramCountVectorizer_3': 226.86524200488415,\n",
       " 'Bsmt.Exposure_E_CharGramCountVectorizer_2': 226.15560078090627,\n",
       " 'Foundation_E_CharGramCountVectorizer_6': 221.71779113275116,\n",
       " 'Neighborhood_E_CharGramCountVectorizer_25': 212.3831353164801,\n",
       " 'Exter.Cond_E_CharGramCountVectorizer_2': 210.08354032183632,\n",
       " 'Bsmt.Full.Bath_E_CharGramCountVectorizer_3': 196.45218808214895,\n",
       " 'Land.Contour_E_CharGramCountVectorizer_2': 186.91204480346178,\n",
       " 'Overall.Cond_E_CharGramCountVectorizer_7': 180.65805649758445,\n",
       " 'Kitchen.AbvGr_E_CharGramCountVectorizer_3': 167.48336044570723,\n",
       " 'Fireplaces_E_CharGramCountVectorizer_2': 163.8669953506166,\n",
       " 'Neighborhood_E_CharGramCountVectorizer_24': 162.97523771545497,\n",
       " 'Enclosed.Porch_MeanImputer': 146.1393395225593,\n",
       " 'Neighborhood_E_CharGramCountVectorizer_21': 143.16485254848175,\n",
       " 'Bedroom.AbvGr_E_CharGramCountVectorizer_2': 141.45619509618592,\n",
       " 'Overall.Qual_E_CharGramCountVectorizer_3': 122.33597473403962,\n",
       " 'Mo.Sold_E_CharGramCountVectorizer_12': 120.50002141581302,\n",
       " 'Mo.Sold_E_CharGramCountVectorizer_9': 117.20715616676407,\n",
       " 'Lot.Config_E_CharGramCountVectorizer_1': 116.79821105034476,\n",
       " 'Full.Bath_E_CharGramCountVectorizer_3': 114.54940398104974,\n",
       " 'Lot.Shape_E_CharGramCountVectorizer_2': 112.4568827015195,\n",
       " 'MS.SubClass_E_CharGramCountVectorizer_12': 106.58654991389659,\n",
       " 'Garage.Finish_E_CharGramCountVectorizer_4': 104.43479701651843,\n",
       " 'Sale.Type_E_CharGramCountVectorizer_10': 104.41284843151165,\n",
       " 'Land.Contour_E_CharGramCountVectorizer_4': 103.02681222660864,\n",
       " 'Bsmt.Exposure_E_CharGramCountVectorizer_3': 101.05441375991028,\n",
       " 'Neighborhood_E_CharGramCountVectorizer_11': 99.70320319971474,\n",
       " 'Neighborhood_E_CharGramCountVectorizer_4': 98.94112628900285,\n",
       " 'Condition.1_E_CharGramCountVectorizer_1': 94.908708038656,\n",
       " 'Low.Qual.Fin.SF_CharGramCountVectorizer_0': 94.23467389483599,\n",
       " 'TotRms.AbvGrd_E_CharGramCountVectorizer_13': 94.05997677737341,\n",
       " 'Fence_E_CharGramCountVectorizer_3': 90.86410318879845,\n",
       " 'Mo.Sold_E_CharGramCountVectorizer_4': 87.18084057023601,\n",
       " 'BsmtFin.Type.1_E_CharGramCountVectorizer_5': 87.03148260762649,\n",
       " 'House.Style_E_CharGramCountVectorizer_6': 86.73777574870475,\n",
       " 'TotRms.AbvGrd_E_CharGramCountVectorizer_7': 86.72948280306944,\n",
       " 'Sale.Condition_E_CharGramCountVectorizer_5': 85.87909084824798,\n",
       " 'MS.SubClass_E_CharGramCountVectorizer_16': 85.12973702490304,\n",
       " 'Exter.Qual_E_CharGramCountVectorizer_2': 84.36355740424945,\n",
       " 'Neighborhood_E_CharGramCountVectorizer_5': 83.82957834522017,\n",
       " 'MS.SubClass_E_CharGramCountVectorizer_11': 81.29801398934558,\n",
       " 'Bsmt.Cond_E_CharGramCountVectorizer_4': 81.10728613505022,\n",
       " 'Garage.Qual_E_CharGramCountVectorizer_6': 78.30573480833094,\n",
       " 'Bedroom.AbvGr_E_CharGramCountVectorizer_3': 76.3994195742296,\n",
       " 'BsmtFin.Type.1_E_CharGramCountVectorizer_4': 66.74971311966614,\n",
       " 'Exterior.2nd_E_CharGramCountVectorizer_13': 58.302830057672764,\n",
       " 'Bedroom.AbvGr_E_CharGramCountVectorizer_7': 57.694464025390275,\n",
       " 'Fence_E_CharGramCountVectorizer_5': 57.31002939140843,\n",
       " 'Fireplace.Qu_E_CharGramCountVectorizer_4': 57.143719832662335,\n",
       " 'Mas.Vnr.Type_E_CharGramCountVectorizer_4': 56.91115665843949,\n",
       " 'TotRms.AbvGrd_E_CharGramCountVectorizer_4': 56.05393839888352,\n",
       " 'Condition.1_E_CharGramCountVectorizer_8': 55.559510372389944,\n",
       " 'Overall.Cond_E_CharGramCountVectorizer_5': 55.40216791710705,\n",
       " 'Fireplace.Qu_E_CharGramCountVectorizer_3': 54.688916474387256,\n",
       " 'MS.SubClass_E_CharGramCountVectorizer_15': 52.67999253612732,\n",
       " 'Lot.Config_E_CharGramCountVectorizer_5': 51.460655197760744,\n",
       " 'Exterior.1st_E_CharGramCountVectorizer_8': 50.85736226665282,\n",
       " 'Land.Slope_E_CharGramCountVectorizer_1': 50.67163762169975,\n",
       " 'Fireplace.Qu_E_CharGramCountVectorizer_5': 50.51227731653539,\n",
       " 'Neighborhood_E_CharGramCountVectorizer_6': 48.20325067869176,\n",
       " 'Foundation_E_CharGramCountVectorizer_3': 47.39595630583824,\n",
       " 'BsmtFin.Type.2_E_CharGramCountVectorizer_7': 47.03539536293432,\n",
       " 'House.Style_E_CharGramCountVectorizer_4': 46.32877986287246,\n",
       " 'Heating.QC_E_CharGramCountVectorizer_4': 46.11076097353,\n",
       " 'Land.Contour_E_CharGramCountVectorizer_1': 44.98738788927187,\n",
       " 'Roof.Style_E_CharGramCountVectorizer_3': 44.52643573686618,\n",
       " 'Bsmt.Half.Bath_E_CharGramCountVectorizer_1': 44.01917827871688,\n",
       " 'Mo.Sold_E_CharGramCountVectorizer_8': 43.76383642048233,\n",
       " 'Mas.Vnr.Type_E_CharGramCountVectorizer_5': 43.10470995047415,\n",
       " 'Bsmt.Cond_E_CharGramCountVectorizer_2': 40.93176113439139,\n",
       " 'Neighborhood_E_CharGramCountVectorizer_14': 40.10317845273468,\n",
       " 'Overall.Cond_E_CharGramCountVectorizer_8': 37.33027255702868,\n",
       " 'Mo.Sold_E_CharGramCountVectorizer_7': 36.13120846195962,\n",
       " 'Exterior.1st_E_CharGramCountVectorizer_12': 35.556127914738376,\n",
       " 'BsmtFin.Type.1_E_CharGramCountVectorizer_2': 34.86246938072807,\n",
       " 'Roof.Style_E_CharGramCountVectorizer_6': 34.70800400262003,\n",
       " 'Lot.Config_E_CharGramCountVectorizer_2': 34.42125901818532,\n",
       " 'Neighborhood_E_CharGramCountVectorizer_12': 34.23312966679382,\n",
       " 'BsmtFin.SF.2_MeanImputer': 33.42876290958673,\n",
       " 'Exterior.2nd_E_CharGramCountVectorizer_7': 32.70335894821297,\n",
       " 'Yr.Sold_E_CharGramCountVectorizer_2': 32.29563154535546,\n",
       " 'Mo.Sold_E_CharGramCountVectorizer_2': 31.274474452221895,\n",
       " 'Yr.Sold_E_CharGramCountVectorizer_4': 31.274307265576972,\n",
       " 'Exterior.1st_E_CharGramCountVectorizer_10': 29.855757243863252,\n",
       " 'Sale.Type_E_CharGramCountVectorizer_6': 28.562542523879845,\n",
       " 'TotRms.AbvGrd_E_CharGramCountVectorizer_5': 27.980787235569288,\n",
       " 'Bsmt.Qual_E_CharGramCountVectorizer_4': 26.12382834567303,\n",
       " 'Exter.Cond_E_CharGramCountVectorizer_3': 25.30039941537915,\n",
       " 'Neighborhood_E_CharGramCountVectorizer_22': 24.98412965602405,\n",
       " 'Neighborhood_E_CharGramCountVectorizer_2': 23.974150885545953,\n",
       " 'Lot.Config_E_CharGramCountVectorizer_3': 23.619251742376896,\n",
       " 'Garage.Finish_E_CharGramCountVectorizer_3': 22.24589413079205,\n",
       " 'Bldg.Type_E_CharGramCountVectorizer_5': 20.748632019476894,\n",
       " 'Exterior.1st_E_CharGramCountVectorizer_7': 20.22717432694277,\n",
       " 'Neighborhood_E_CharGramCountVectorizer_1': 19.49530536866574,\n",
       " 'Mas.Vnr.Type_E_CharGramCountVectorizer_3': 18.97122364061058,\n",
       " 'Kitchen.Qual_E_CharGramCountVectorizer_1': 17.893480678424936,\n",
       " 'Land.Slope_E_CharGramCountVectorizer_2': 16.9595193343882,\n",
       " 'BsmtFin.Type.2_E_CharGramCountVectorizer_6': 15.031319056832514,\n",
       " 'Exterior.1st_E_CharGramCountVectorizer_5': 14.700109009164892,\n",
       " 'Yr.Sold_E_CharGramCountVectorizer_1': 14.400018962746492,\n",
       " 'House.Style_E_CharGramCountVectorizer_7': 14.23987807768276,\n",
       " 'Bldg.Type_E_CharGramCountVectorizer_1': 13.886854863931056,\n",
       " 'Yr.Sold_E_CharGramCountVectorizer_5': 13.844159140196224,\n",
       " 'Mo.Sold_E_CharGramCountVectorizer_11': 13.746237465753882,\n",
       " 'Foundation_E_CharGramCountVectorizer_2': 12.716394975956957,\n",
       " 'MS.SubClass_E_CharGramCountVectorizer_4': 11.616094513893266,\n",
       " 'Mo.Sold_E_CharGramCountVectorizer_10': 11.352226690846944,\n",
       " 'Sale.Type_E_CharGramCountVectorizer_4': 11.235494472365117,\n",
       " 'TotRms.AbvGrd_E_CharGramCountVectorizer_3': 10.821571644308024,\n",
       " 'Exterior.2nd_E_CharGramCountVectorizer_1': 10.757261216826528,\n",
       " 'Exterior.2nd_E_CharGramCountVectorizer_10': 10.670577027102741,\n",
       " 'Exterior.1st_E_CharGramCountVectorizer_6': 10.588232818091273,\n",
       " 'BsmtFin.Type.1_E_CharGramCountVectorizer_6': 9.716545970887802,\n",
       " 'BsmtFin.Type.2_E_CharGramCountVectorizer_2': 9.616875451319013,\n",
       " 'Functional_E_CharGramCountVectorizer_4': 9.056576997009993,\n",
       " 'MS.SubClass_E_CharGramCountVectorizer_6': 8.855937316794417,\n",
       " 'Fireplace.Qu_E_CharGramCountVectorizer_6': 8.593144201721671,\n",
       " 'MS.SubClass_E_CharGramCountVectorizer_5': 7.47744498556658,\n",
       " 'Exterior.2nd_E_CharGramCountVectorizer_6': 7.2814142332360055,\n",
       " 'Exterior.2nd_E_CharGramCountVectorizer_9': 6.482442675122331,\n",
       " 'Mo.Sold_E_CharGramCountVectorizer_1': 6.396709343031093,\n",
       " 'Exterior.2nd_E_CharGramCountVectorizer_14': 6.383530463209009,\n",
       " 'Electrical_E_CharGramCountVectorizer_5': 6.302673605374867,\n",
       " 'TotRms.AbvGrd_E_CharGramCountVectorizer_10': 6.148104387597761,\n",
       " 'Exter.Cond_E_CharGramCountVectorizer_4': 6.127312339571577,\n",
       " 'Paved.Drive_E_CharGramCountVectorizer_2': 5.579028949786502,\n",
       " 'Garage.Type_E_CharGramCountVectorizer_7': 5.373801730942526,\n",
       " 'Exterior.2nd_E_CharGramCountVectorizer_8': 5.22035570672644,\n",
       " 'Mo.Sold_E_CharGramCountVectorizer_3': 4.857200076143302,\n",
       " 'Misc.Val_CharGramCountVectorizer_0': 4.51489424034979,\n",
       " 'Garage.Qual_E_CharGramCountVectorizer_4': 4.222580074761585,\n",
       " 'Garage.Cars_E_CharGramCountVectorizer_3': 3.72861667214043}"
      ]
     },
     "execution_count": 71,
     "metadata": {},
     "output_type": "execute_result"
    }
   ],
   "source": [
    "client = ExplanationClient.from_run(best_run)\n",
    "engineered_explanations = client.download_model_explanation(raw = False)\n",
    "feature_importance_dict = engineered_explanations.get_feature_importance_dict()\n",
    "{k:v for k,v in feature_importance_dict.items() if v > 0}"
   ]
  },
  {
   "cell_type": "markdown",
   "metadata": {},
   "source": [
    "As we can see, for a categorical feature, an importance score is generated for each category. If we want to score the overall feature, we can get the raw explanation."
   ]
  },
  {
   "cell_type": "code",
   "execution_count": 72,
   "metadata": {
    "scrolled": true
   },
   "outputs": [
    {
     "ename": "UserErrorException",
     "evalue": "UserErrorException:\n\tMessage: Did not find any explanations matching comment or raw filters.\n\tInnerException None\n\tErrorResponse \n{\n    \"error\": {\n        \"code\": \"UserError\",\n        \"message\": \"Did not find any explanations matching comment or raw filters.\"\n    }\n}",
     "output_type": "error",
     "traceback": [
      "\u001b[0;31m---------------------------------------------------------------------------\u001b[0m",
      "\u001b[0;31mUserErrorException\u001b[0m                        Traceback (most recent call last)",
      "\u001b[0;32m<ipython-input-72-89834a8957f9>\u001b[0m in \u001b[0;36m<module>\u001b[0;34m\u001b[0m\n\u001b[1;32m      1\u001b[0m \u001b[0mclient\u001b[0m \u001b[0;34m=\u001b[0m \u001b[0mExplanationClient\u001b[0m\u001b[0;34m.\u001b[0m\u001b[0mfrom_run\u001b[0m\u001b[0;34m(\u001b[0m\u001b[0mbest_run\u001b[0m\u001b[0;34m)\u001b[0m\u001b[0;34m\u001b[0m\u001b[0;34m\u001b[0m\u001b[0m\n\u001b[0;32m----> 2\u001b[0;31m \u001b[0mraw_explanations\u001b[0m \u001b[0;34m=\u001b[0m \u001b[0mclient\u001b[0m\u001b[0;34m.\u001b[0m\u001b[0mdownload_model_explanation\u001b[0m\u001b[0;34m(\u001b[0m\u001b[0mraw\u001b[0m\u001b[0;34m=\u001b[0m\u001b[0;32mTrue\u001b[0m\u001b[0;34m)\u001b[0m\u001b[0;34m\u001b[0m\u001b[0;34m\u001b[0m\u001b[0m\n\u001b[0m\u001b[1;32m      3\u001b[0m \u001b[0mraw_explanations\u001b[0m\u001b[0;34m.\u001b[0m\u001b[0mget_feature_importance_dict\u001b[0m\u001b[0;34m(\u001b[0m\u001b[0;34m)\u001b[0m\u001b[0;34m\u001b[0m\u001b[0;34m\u001b[0m\u001b[0m\n",
      "\u001b[0;32m/anaconda/envs/azureml_py36/lib/python3.6/site-packages/azureml/interpret/_internal/explanation_client.py\u001b[0m in \u001b[0;36mdownload_model_explanation\u001b[0;34m(self, explanation_id, top_k, comment, raw)\u001b[0m\n\u001b[1;32m    513\u001b[0m         \"\"\"\n\u001b[1;32m    514\u001b[0m         \u001b[0;32mif\u001b[0m \u001b[0mtop_k\u001b[0m \u001b[0;32mis\u001b[0m \u001b[0;32mNone\u001b[0m\u001b[0;34m:\u001b[0m\u001b[0;34m\u001b[0m\u001b[0;34m\u001b[0m\u001b[0m\n\u001b[0;32m--> 515\u001b[0;31m             \u001b[0;32mreturn\u001b[0m \u001b[0mself\u001b[0m\u001b[0;34m.\u001b[0m\u001b[0m_download_explanation_as_batch\u001b[0m\u001b[0;34m(\u001b[0m\u001b[0mexplanation_id\u001b[0m\u001b[0;34m=\u001b[0m\u001b[0mexplanation_id\u001b[0m\u001b[0;34m,\u001b[0m \u001b[0mcomment\u001b[0m\u001b[0;34m=\u001b[0m\u001b[0mcomment\u001b[0m\u001b[0;34m,\u001b[0m \u001b[0mraw\u001b[0m\u001b[0;34m=\u001b[0m\u001b[0mraw\u001b[0m\u001b[0;34m)\u001b[0m\u001b[0;34m\u001b[0m\u001b[0;34m\u001b[0m\u001b[0m\n\u001b[0m\u001b[1;32m    516\u001b[0m         \u001b[0;32melse\u001b[0m\u001b[0;34m:\u001b[0m\u001b[0;34m\u001b[0m\u001b[0;34m\u001b[0m\u001b[0m\n\u001b[1;32m    517\u001b[0m             return self._download_explanation_top_k(explanation_id=explanation_id, top_k=top_k, comment=comment,\n",
      "\u001b[0;32m/anaconda/envs/azureml_py36/lib/python3.6/site-packages/azureml/interpret/_internal/explanation_client.py\u001b[0m in \u001b[0;36m_download_explanation_as_batch\u001b[0;34m(self, explanation_id, comment, raw)\u001b[0m\n\u001b[1;32m    569\u001b[0m                                                      explanation_assets))\n\u001b[1;32m    570\u001b[0m                 \u001b[0;32mif\u001b[0m \u001b[0mlen\u001b[0m\u001b[0;34m(\u001b[0m\u001b[0mexplanation_assets\u001b[0m\u001b[0;34m)\u001b[0m \u001b[0;34m==\u001b[0m \u001b[0;36m0\u001b[0m\u001b[0;34m:\u001b[0m\u001b[0;34m\u001b[0m\u001b[0;34m\u001b[0m\u001b[0m\n\u001b[0;32m--> 571\u001b[0;31m                     \u001b[0;32mraise\u001b[0m \u001b[0mUserErrorException\u001b[0m\u001b[0;34m(\u001b[0m\u001b[0;34m'Did not find any explanations matching comment or raw filters.'\u001b[0m\u001b[0;34m)\u001b[0m\u001b[0;34m\u001b[0m\u001b[0;34m\u001b[0m\u001b[0m\n\u001b[0m\u001b[1;32m    572\u001b[0m                 \u001b[0;31m# sort assets by upload time and return latest\u001b[0m\u001b[0;34m\u001b[0m\u001b[0;34m\u001b[0m\u001b[0;34m\u001b[0m\u001b[0m\n\u001b[1;32m    573\u001b[0m                 \u001b[0mexplanation_assets\u001b[0m \u001b[0;34m=\u001b[0m \u001b[0msorted\u001b[0m\u001b[0;34m(\u001b[0m\u001b[0mexplanation_assets\u001b[0m\u001b[0;34m,\u001b[0m \u001b[0mkey\u001b[0m\u001b[0;34m=\u001b[0m\u001b[0;32mlambda\u001b[0m \u001b[0masset\u001b[0m\u001b[0;34m:\u001b[0m \u001b[0masset\u001b[0m\u001b[0;34m.\u001b[0m\u001b[0mcreated_time\u001b[0m\u001b[0;34m)\u001b[0m\u001b[0;34m\u001b[0m\u001b[0;34m\u001b[0m\u001b[0m\n",
      "\u001b[0;31mUserErrorException\u001b[0m: UserErrorException:\n\tMessage: Did not find any explanations matching comment or raw filters.\n\tInnerException None\n\tErrorResponse \n{\n    \"error\": {\n        \"code\": \"UserError\",\n        \"message\": \"Did not find any explanations matching comment or raw filters.\"\n    }\n}"
     ]
    }
   ],
   "source": [
    "client = ExplanationClient.from_run(best_run)\n",
    "raw_explanations = client.download_model_explanation(raw=True)\n",
    "raw_explanations.get_feature_importance_dict()"
   ]
  },
  {
   "cell_type": "markdown",
   "metadata": {},
   "source": [
    "With that feature importance scores, we can then [visualize](https://docs.microsoft.com/en-us/azure/machine-learning/service/machine-learning-interpretability-explainability#visualizations) and interact with them to evaluate the effects of the variables on the predictions."
   ]
  },
  {
   "cell_type": "code",
   "execution_count": null,
   "metadata": {},
   "outputs": [],
   "source": [
    "ExplanationDashboard(raw_explanations, fitted_model, X_train)"
   ]
  },
  {
   "cell_type": "markdown",
   "metadata": {},
   "source": [
    "We can also do the same for a specific run. AML service supports model interpretability and explainability in [several ways](https://docs.microsoft.com/en-us/azure/machine-learning/service/machine-learning-interpretability-explainability#how-to-interpret-your-model). Here we use a direct **Mimic Explainer** with a **LightGBM** as a surrogate model."
   ]
  },
  {
   "cell_type": "code",
   "execution_count": null,
   "metadata": {},
   "outputs": [],
   "source": [
    "automl_run, fitted_model = local_run.get_output(iteration = 0)"
   ]
  },
  {
   "cell_type": "code",
   "execution_count": null,
   "metadata": {},
   "outputs": [],
   "source": [
    "automl_explainer_setup_obj = automl_setup_model_explanations(fitted_model, X = X_train, \n",
    "                                                             X_test = X_test, y = y_train,\n",
    "                                                             features = numeric_vars + categorical_vars_E,\n",
    "                                                             task = \"regression\")"
   ]
  },
  {
   "cell_type": "code",
   "execution_count": null,
   "metadata": {},
   "outputs": [],
   "source": [
    "explainer = MimicWrapper(ws, automl_explainer_setup_obj.automl_estimator, LGBMExplainableModel, \n",
    "                         init_dataset = automl_explainer_setup_obj.X_transform, run = automl_run,\n",
    "                         features = automl_explainer_setup_obj.engineered_feature_names, \n",
    "                         feature_maps = [automl_explainer_setup_obj.feature_map],\n",
    "                         classes = automl_explainer_setup_obj.classes)"
   ]
  },
  {
   "cell_type": "code",
   "execution_count": null,
   "metadata": {},
   "outputs": [],
   "source": [
    "engineered_explanations = explainer.explain(['local', 'global'], eval_dataset = automl_explainer_setup_obj.X_test_transform)\n",
    "engineered_feature_importance = engineered_explanations.get_feature_importance_dict()\n",
    "{k:v for k, v in engineered_feature_importance.items() if v > 0}"
   ]
  },
  {
   "cell_type": "code",
   "execution_count": null,
   "metadata": {
    "scrolled": true
   },
   "outputs": [],
   "source": [
    "ExplanationDashboard(engineered_explanations, automl_explainer_setup_obj.automl_estimator, automl_explainer_setup_obj.X_test_transform)"
   ]
  },
  {
   "cell_type": "code",
   "execution_count": null,
   "metadata": {
    "scrolled": true
   },
   "outputs": [],
   "source": [
    "raw_explanations = explainer.explain(['local', 'global'], get_raw = True, \n",
    "                                     raw_feature_names = automl_explainer_setup_obj.raw_feature_names,\n",
    "                                     eval_dataset = automl_explainer_setup_obj.X_test_transform)\n",
    "raw_explanations.get_feature_importance_dict()"
   ]
  },
  {
   "cell_type": "code",
   "execution_count": null,
   "metadata": {},
   "outputs": [],
   "source": [
    "ExplanationDashboard(raw_explanations, automl_explainer_setup_obj.automl_pipeline, automl_explainer_setup_obj.X_test_raw)"
   ]
  }
 ],
 "metadata": {
  "kernelspec": {
   "display_name": "Python 3.6 - AzureML",
   "language": "python",
   "name": "python3-azureml"
  },
  "language_info": {
   "codemirror_mode": {
    "name": "ipython",
    "version": 3
   },
   "file_extension": ".py",
   "mimetype": "text/x-python",
   "name": "python",
   "nbconvert_exporter": "python",
   "pygments_lexer": "ipython3",
   "version": "3.6.9"
  }
 },
 "nbformat": 4,
 "nbformat_minor": 4
}
